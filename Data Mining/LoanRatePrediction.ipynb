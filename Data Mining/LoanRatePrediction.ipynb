{
 "cells": [
  {
   "cell_type": "code",
   "execution_count": 1,
   "id": "164e1187-2758-48ba-9847-ddc76781b56b",
   "metadata": {},
   "outputs": [],
   "source": [
    "import pandas as pd\n",
    "import numpy as np\n",
    "\n",
    "import matplotlib.pyplot as plt\n",
    "pd.options.display.max_columns = 50"
   ]
  },
  {
   "cell_type": "code",
   "execution_count": 2,
   "id": "71af853d-e697-439f-b0dd-350bae74e2fa",
   "metadata": {},
   "outputs": [],
   "source": [
    "df = pd.read_csv('Data for Cleaning & Modeling.csv', low_memory = False)"
   ]
  },
  {
   "cell_type": "code",
   "execution_count": 3,
   "id": "eacea7a2-0a54-4b1b-8835-516a9eb6ab90",
   "metadata": {},
   "outputs": [
    {
     "data": {
      "text/html": [
       "<div>\n",
       "<style scoped>\n",
       "    .dataframe tbody tr th:only-of-type {\n",
       "        vertical-align: middle;\n",
       "    }\n",
       "\n",
       "    .dataframe tbody tr th {\n",
       "        vertical-align: top;\n",
       "    }\n",
       "\n",
       "    .dataframe thead th {\n",
       "        text-align: right;\n",
       "    }\n",
       "</style>\n",
       "<table border=\"1\" class=\"dataframe\">\n",
       "  <thead>\n",
       "    <tr style=\"text-align: right;\">\n",
       "      <th></th>\n",
       "      <th>X1</th>\n",
       "      <th>X2</th>\n",
       "      <th>X3</th>\n",
       "      <th>X4</th>\n",
       "      <th>X5</th>\n",
       "      <th>X6</th>\n",
       "      <th>X7</th>\n",
       "      <th>X8</th>\n",
       "      <th>X9</th>\n",
       "      <th>X10</th>\n",
       "      <th>X11</th>\n",
       "      <th>X12</th>\n",
       "      <th>X13</th>\n",
       "      <th>X14</th>\n",
       "      <th>X15</th>\n",
       "      <th>X16</th>\n",
       "      <th>X17</th>\n",
       "      <th>X18</th>\n",
       "      <th>X19</th>\n",
       "      <th>X20</th>\n",
       "      <th>X21</th>\n",
       "      <th>X22</th>\n",
       "      <th>X23</th>\n",
       "      <th>X24</th>\n",
       "      <th>X25</th>\n",
       "      <th>X26</th>\n",
       "      <th>X27</th>\n",
       "      <th>X28</th>\n",
       "      <th>X29</th>\n",
       "      <th>X30</th>\n",
       "      <th>X31</th>\n",
       "      <th>X32</th>\n",
       "    </tr>\n",
       "  </thead>\n",
       "  <tbody>\n",
       "    <tr>\n",
       "      <th>0</th>\n",
       "      <td>11.89%</td>\n",
       "      <td>54734.0</td>\n",
       "      <td>80364.0</td>\n",
       "      <td>$25,000</td>\n",
       "      <td>$25,000</td>\n",
       "      <td>$19,080</td>\n",
       "      <td>36 months</td>\n",
       "      <td>B</td>\n",
       "      <td>B4</td>\n",
       "      <td>NaN</td>\n",
       "      <td>&lt; 1 year</td>\n",
       "      <td>RENT</td>\n",
       "      <td>85000.0</td>\n",
       "      <td>VERIFIED - income</td>\n",
       "      <td>Aug-09</td>\n",
       "      <td>Due to a lack of personal finance education an...</td>\n",
       "      <td>debt_consolidation</td>\n",
       "      <td>Debt consolidation for on-time payer</td>\n",
       "      <td>941xx</td>\n",
       "      <td>CA</td>\n",
       "      <td>19.48</td>\n",
       "      <td>0.0</td>\n",
       "      <td>Feb-94</td>\n",
       "      <td>0.0</td>\n",
       "      <td>NaN</td>\n",
       "      <td>NaN</td>\n",
       "      <td>10.0</td>\n",
       "      <td>0.0</td>\n",
       "      <td>28854.0</td>\n",
       "      <td>52.10%</td>\n",
       "      <td>42.0</td>\n",
       "      <td>f</td>\n",
       "    </tr>\n",
       "    <tr>\n",
       "      <th>1</th>\n",
       "      <td>10.71%</td>\n",
       "      <td>55742.0</td>\n",
       "      <td>114426.0</td>\n",
       "      <td>$7,000</td>\n",
       "      <td>$7,000</td>\n",
       "      <td>$673</td>\n",
       "      <td>36 months</td>\n",
       "      <td>B</td>\n",
       "      <td>B5</td>\n",
       "      <td>CNN</td>\n",
       "      <td>&lt; 1 year</td>\n",
       "      <td>RENT</td>\n",
       "      <td>65000.0</td>\n",
       "      <td>not verified</td>\n",
       "      <td>May-08</td>\n",
       "      <td>Just want to pay off the last bit of credit ca...</td>\n",
       "      <td>credit_card</td>\n",
       "      <td>Credit Card payoff</td>\n",
       "      <td>112xx</td>\n",
       "      <td>NY</td>\n",
       "      <td>14.29</td>\n",
       "      <td>0.0</td>\n",
       "      <td>Oct-00</td>\n",
       "      <td>0.0</td>\n",
       "      <td>NaN</td>\n",
       "      <td>NaN</td>\n",
       "      <td>7.0</td>\n",
       "      <td>0.0</td>\n",
       "      <td>33623.0</td>\n",
       "      <td>76.70%</td>\n",
       "      <td>7.0</td>\n",
       "      <td>f</td>\n",
       "    </tr>\n",
       "    <tr>\n",
       "      <th>2</th>\n",
       "      <td>16.99%</td>\n",
       "      <td>57167.0</td>\n",
       "      <td>137225.0</td>\n",
       "      <td>$25,000</td>\n",
       "      <td>$25,000</td>\n",
       "      <td>$24,725</td>\n",
       "      <td>36 months</td>\n",
       "      <td>D</td>\n",
       "      <td>D3</td>\n",
       "      <td>Web Programmer</td>\n",
       "      <td>1 year</td>\n",
       "      <td>RENT</td>\n",
       "      <td>70000.0</td>\n",
       "      <td>VERIFIED - income</td>\n",
       "      <td>Aug-14</td>\n",
       "      <td>Trying to pay a friend back for apartment brok...</td>\n",
       "      <td>debt_consolidation</td>\n",
       "      <td>mlue</td>\n",
       "      <td>100xx</td>\n",
       "      <td>NY</td>\n",
       "      <td>10.50</td>\n",
       "      <td>0.0</td>\n",
       "      <td>Jun-00</td>\n",
       "      <td>0.0</td>\n",
       "      <td>41.0</td>\n",
       "      <td>NaN</td>\n",
       "      <td>10.0</td>\n",
       "      <td>0.0</td>\n",
       "      <td>19878.0</td>\n",
       "      <td>66.30%</td>\n",
       "      <td>17.0</td>\n",
       "      <td>f</td>\n",
       "    </tr>\n",
       "    <tr>\n",
       "      <th>3</th>\n",
       "      <td>13.11%</td>\n",
       "      <td>57245.0</td>\n",
       "      <td>138150.0</td>\n",
       "      <td>$1,200</td>\n",
       "      <td>$1,200</td>\n",
       "      <td>$1,200</td>\n",
       "      <td>36 months</td>\n",
       "      <td>C</td>\n",
       "      <td>C2</td>\n",
       "      <td>city of beaumont texas</td>\n",
       "      <td>10+ years</td>\n",
       "      <td>OWN</td>\n",
       "      <td>54000.0</td>\n",
       "      <td>not verified</td>\n",
       "      <td>Mar-10</td>\n",
       "      <td>If funded, I would use this loan consolidate t...</td>\n",
       "      <td>debt_consolidation</td>\n",
       "      <td>zxcvb</td>\n",
       "      <td>777xx</td>\n",
       "      <td>TX</td>\n",
       "      <td>5.47</td>\n",
       "      <td>0.0</td>\n",
       "      <td>Jan-85</td>\n",
       "      <td>0.0</td>\n",
       "      <td>64.0</td>\n",
       "      <td>NaN</td>\n",
       "      <td>5.0</td>\n",
       "      <td>0.0</td>\n",
       "      <td>2584.0</td>\n",
       "      <td>40.40%</td>\n",
       "      <td>31.0</td>\n",
       "      <td>f</td>\n",
       "    </tr>\n",
       "    <tr>\n",
       "      <th>4</th>\n",
       "      <td>13.57%</td>\n",
       "      <td>57416.0</td>\n",
       "      <td>139635.0</td>\n",
       "      <td>$10,800</td>\n",
       "      <td>$10,800</td>\n",
       "      <td>$10,692</td>\n",
       "      <td>36 months</td>\n",
       "      <td>C</td>\n",
       "      <td>C3</td>\n",
       "      <td>State Farm Insurance</td>\n",
       "      <td>6 years</td>\n",
       "      <td>RENT</td>\n",
       "      <td>32000.0</td>\n",
       "      <td>not verified</td>\n",
       "      <td>Nov-09</td>\n",
       "      <td>I currently have a personal loan with Citifina...</td>\n",
       "      <td>debt_consolidation</td>\n",
       "      <td>Nicolechr1978</td>\n",
       "      <td>067xx</td>\n",
       "      <td>CT</td>\n",
       "      <td>11.63</td>\n",
       "      <td>0.0</td>\n",
       "      <td>Dec-96</td>\n",
       "      <td>1.0</td>\n",
       "      <td>58.0</td>\n",
       "      <td>NaN</td>\n",
       "      <td>14.0</td>\n",
       "      <td>0.0</td>\n",
       "      <td>3511.0</td>\n",
       "      <td>25.60%</td>\n",
       "      <td>40.0</td>\n",
       "      <td>f</td>\n",
       "    </tr>\n",
       "  </tbody>\n",
       "</table>\n",
       "</div>"
      ],
      "text/plain": [
       "       X1       X2        X3       X4       X5       X6          X7 X8  X9  \\\n",
       "0  11.89%  54734.0   80364.0  $25,000  $25,000  $19,080   36 months  B  B4   \n",
       "1  10.71%  55742.0  114426.0   $7,000   $7,000     $673   36 months  B  B5   \n",
       "2  16.99%  57167.0  137225.0  $25,000  $25,000  $24,725   36 months  D  D3   \n",
       "3  13.11%  57245.0  138150.0   $1,200   $1,200   $1,200   36 months  C  C2   \n",
       "4  13.57%  57416.0  139635.0  $10,800  $10,800  $10,692   36 months  C  C3   \n",
       "\n",
       "                      X10        X11   X12      X13                X14  \\\n",
       "0                     NaN   < 1 year  RENT  85000.0  VERIFIED - income   \n",
       "1                     CNN   < 1 year  RENT  65000.0       not verified   \n",
       "2          Web Programmer     1 year  RENT  70000.0  VERIFIED - income   \n",
       "3  city of beaumont texas  10+ years   OWN  54000.0       not verified   \n",
       "4    State Farm Insurance    6 years  RENT  32000.0       not verified   \n",
       "\n",
       "      X15                                                X16  \\\n",
       "0  Aug-09  Due to a lack of personal finance education an...   \n",
       "1  May-08  Just want to pay off the last bit of credit ca...   \n",
       "2  Aug-14  Trying to pay a friend back for apartment brok...   \n",
       "3  Mar-10  If funded, I would use this loan consolidate t...   \n",
       "4  Nov-09  I currently have a personal loan with Citifina...   \n",
       "\n",
       "                  X17                                   X18    X19 X20    X21  \\\n",
       "0  debt_consolidation  Debt consolidation for on-time payer  941xx  CA  19.48   \n",
       "1         credit_card                    Credit Card payoff  112xx  NY  14.29   \n",
       "2  debt_consolidation                                  mlue  100xx  NY  10.50   \n",
       "3  debt_consolidation                                 zxcvb  777xx  TX   5.47   \n",
       "4  debt_consolidation                         Nicolechr1978  067xx  CT  11.63   \n",
       "\n",
       "   X22     X23  X24   X25  X26   X27  X28      X29     X30   X31 X32  \n",
       "0  0.0  Feb-94  0.0   NaN  NaN  10.0  0.0  28854.0  52.10%  42.0   f  \n",
       "1  0.0  Oct-00  0.0   NaN  NaN   7.0  0.0  33623.0  76.70%   7.0   f  \n",
       "2  0.0  Jun-00  0.0  41.0  NaN  10.0  0.0  19878.0  66.30%  17.0   f  \n",
       "3  0.0  Jan-85  0.0  64.0  NaN   5.0  0.0   2584.0  40.40%  31.0   f  \n",
       "4  0.0  Dec-96  1.0  58.0  NaN  14.0  0.0   3511.0  25.60%  40.0   f  "
      ]
     },
     "execution_count": 3,
     "metadata": {},
     "output_type": "execute_result"
    }
   ],
   "source": [
    "df.head()"
   ]
  },
  {
   "cell_type": "markdown",
   "id": "6c941bd0-f9f8-4286-8b58-b811ca76ea73",
   "metadata": {},
   "source": [
    "#### Checking for nulls in the y label"
   ]
  },
  {
   "cell_type": "code",
   "execution_count": 4,
   "id": "85ac77b1-cfbf-41fb-ac3b-7977284ffda7",
   "metadata": {},
   "outputs": [
    {
     "data": {
      "text/plain": [
       "61010"
      ]
     },
     "execution_count": 4,
     "metadata": {},
     "output_type": "execute_result"
    }
   ],
   "source": [
    "df['X1'].isnull().sum()"
   ]
  },
  {
   "cell_type": "markdown",
   "id": "9c4bf683-00a3-4d09-9fea-341d0290f48a",
   "metadata": {},
   "source": [
    "#### Since the y label has nulls we can't do anything with the rows having null target values, so we'll need to drop them"
   ]
  },
  {
   "cell_type": "code",
   "execution_count": 5,
   "id": "7fb8ef7d-ffd8-4fc3-84d8-04b4cec0a687",
   "metadata": {},
   "outputs": [
    {
     "data": {
      "text/plain": [
       "(338990, 32)"
      ]
     },
     "execution_count": 5,
     "metadata": {},
     "output_type": "execute_result"
    }
   ],
   "source": [
    "df = df.dropna(axis = 0, subset = 'X1')\n",
    "df.shape"
   ]
  },
  {
   "cell_type": "code",
   "execution_count": 6,
   "id": "7196fde1-a35d-4eaf-b38b-23429ba4f518",
   "metadata": {},
   "outputs": [],
   "source": [
    "df_testing = pd.read_csv('Holdout for Testing.csv', low_memory = False)"
   ]
  },
  {
   "cell_type": "code",
   "execution_count": 7,
   "id": "08eac827-001c-44da-b4be-0589329e1ee9",
   "metadata": {
    "scrolled": true,
    "tags": []
   },
   "outputs": [
    {
     "name": "stdout",
     "output_type": "stream",
     "text": [
      "<class 'pandas.core.frame.DataFrame'>\n",
      "Int64Index: 338990 entries, 0 to 399999\n",
      "Data columns (total 32 columns):\n",
      " #   Column  Non-Null Count   Dtype  \n",
      "---  ------  --------------   -----  \n",
      " 0   X1      338990 non-null  object \n",
      " 1   X2      338989 non-null  float64\n",
      " 2   X3      338989 non-null  float64\n",
      " 3   X4      338989 non-null  object \n",
      " 4   X5      338989 non-null  object \n",
      " 5   X6      338989 non-null  object \n",
      " 6   X7      338989 non-null  object \n",
      " 7   X8      287123 non-null  object \n",
      " 8   X9      287123 non-null  object \n",
      " 9   X10     318733 non-null  object \n",
      " 10  X11     324195 non-null  object \n",
      " 11  X12     287030 non-null  object \n",
      " 12  X13     287238 non-null  float64\n",
      " 13  X14     338989 non-null  object \n",
      " 14  X15     338989 non-null  object \n",
      " 15  X16     105056 non-null  object \n",
      " 16  X17     338989 non-null  object \n",
      " 17  X18     338973 non-null  object \n",
      " 18  X19     338989 non-null  object \n",
      " 19  X20     338989 non-null  object \n",
      " 20  X21     338989 non-null  float64\n",
      " 21  X22     338989 non-null  float64\n",
      " 22  X23     338989 non-null  object \n",
      " 23  X24     338989 non-null  float64\n",
      " 24  X25     153533 non-null  float64\n",
      " 25  X26     43400 non-null   float64\n",
      " 26  X27     338989 non-null  float64\n",
      " 27  X28     338989 non-null  float64\n",
      " 28  X29     338989 non-null  float64\n",
      " 29  X30     338765 non-null  object \n",
      " 30  X31     338989 non-null  float64\n",
      " 31  X32     338989 non-null  object \n",
      "dtypes: float64(12), object(20)\n",
      "memory usage: 85.3+ MB\n"
     ]
    }
   ],
   "source": [
    "df.info()"
   ]
  },
  {
   "cell_type": "markdown",
   "id": "a436dd20-6e2e-48a6-86f7-f90485044d8b",
   "metadata": {},
   "source": [
    "### Since, X25 only has only 43,400 non-null values, exploring that next to see if we can impute it or we'll need to drop it"
   ]
  },
  {
   "cell_type": "code",
   "execution_count": 8,
   "id": "6d391c19-fd61-4e54-b054-0b7bc7c292f7",
   "metadata": {
    "scrolled": true,
    "tags": []
   },
   "outputs": [
    {
     "data": {
      "text/plain": [
       "0.0     704\n",
       "1.0     924\n",
       "2.0    1237\n",
       "3.0    1445\n",
       "4.0    1805\n",
       "Name: X25, dtype: int64"
      ]
     },
     "metadata": {},
     "output_type": "display_data"
    },
    {
     "data": {
      "text/plain": [
       "<AxesSubplot:>"
      ]
     },
     "execution_count": 8,
     "metadata": {},
     "output_type": "execute_result"
    },
    {
     "data": {
      "image/png": "[encoded data removed]",
      "text/plain": [
       "<Figure size 432x288 with 1 Axes>"
      ]
     },
     "metadata": {
      "needs_background": "light"
     },
     "output_type": "display_data"
    }
   ],
   "source": [
    "display(df['X25'].value_counts().sort_index().head())\n",
    "df['X25'].value_counts().sort_index().plot()"
   ]
  },
  {
   "cell_type": "markdown",
   "id": "05ea9664-fc0d-476c-ba89-80257a5ed1d8",
   "metadata": {
    "tags": []
   },
   "source": [
    "#### Since X25 refers to number of months since borrowers last delinquency and has a lot of non-null values, but since X22 (number of 30+ days deliquecncy) seems co-related with what X25 represents, checking the corelation with X25 being null and X22 to see if we can impute X25"
   ]
  },
  {
   "cell_type": "code",
   "execution_count": 9,
   "id": "b68f7cef-566b-46c6-ae41-2f7b21ae77d5",
   "metadata": {},
   "outputs": [
    {
     "data": {
      "text/plain": [
       "X22 \n",
       "0.0     185102\n",
       "1.0        220\n",
       "2.0         36\n",
       "3.0         29\n",
       "4.0         14\n",
       "5.0         14\n",
       "6.0         14\n",
       "7.0          9\n",
       "8.0          6\n",
       "9.0          5\n",
       "10.0         2\n",
       "11.0         1\n",
       "12.0         1\n",
       "13.0         1\n",
       "14.0         1\n",
       "15.0         1\n",
       "dtype: int64"
      ]
     },
     "execution_count": 9,
     "metadata": {},
     "output_type": "execute_result"
    }
   ],
   "source": [
    "df[df['X25'].isnull()][['X22']].value_counts()"
   ]
  },
  {
   "cell_type": "markdown",
   "id": "309db59b-30c6-4e13-a25d-b1f0240c7276",
   "metadata": {},
   "source": [
    "#### Since a vast majority of null values in X25 correspond to 0 number of 30+ days past-due incidences of delinquency in past two years, we can conclude that missing values can be concluded\n",
    "#### We can impute missing values in X25 as 0.0"
   ]
  },
  {
   "cell_type": "code",
   "execution_count": 10,
   "id": "1908e609-2ddc-493d-b6c7-29805121eba4",
   "metadata": {},
   "outputs": [],
   "source": [
    "df.loc[:,'X25'] = df['X25'].fillna(0)\n",
    "df_testing.loc[:, 'X25'] = df_testing['X25'].fillna(0)"
   ]
  },
  {
   "cell_type": "code",
   "execution_count": 11,
   "id": "d3f9730e-978d-443b-a3e0-5e01a5e57862",
   "metadata": {},
   "outputs": [
    {
     "data": {
      "text/html": [
       "<div>\n",
       "<style scoped>\n",
       "    .dataframe tbody tr th:only-of-type {\n",
       "        vertical-align: middle;\n",
       "    }\n",
       "\n",
       "    .dataframe tbody tr th {\n",
       "        vertical-align: top;\n",
       "    }\n",
       "\n",
       "    .dataframe thead th {\n",
       "        text-align: right;\n",
       "    }\n",
       "</style>\n",
       "<table border=\"1\" class=\"dataframe\">\n",
       "  <thead>\n",
       "    <tr style=\"text-align: right;\">\n",
       "      <th></th>\n",
       "      <th>X25</th>\n",
       "      <th>X22</th>\n",
       "    </tr>\n",
       "  </thead>\n",
       "  <tbody>\n",
       "    <tr>\n",
       "      <th>X25</th>\n",
       "      <td>1.000000</td>\n",
       "      <td>-0.054841</td>\n",
       "    </tr>\n",
       "    <tr>\n",
       "      <th>X22</th>\n",
       "      <td>-0.054841</td>\n",
       "      <td>1.000000</td>\n",
       "    </tr>\n",
       "  </tbody>\n",
       "</table>\n",
       "</div>"
      ],
      "text/plain": [
       "          X25       X22\n",
       "X25  1.000000 -0.054841\n",
       "X22 -0.054841  1.000000"
      ]
     },
     "execution_count": 11,
     "metadata": {},
     "output_type": "execute_result"
    }
   ],
   "source": [
    "df[['X25', 'X22']].corr()"
   ]
  },
  {
   "cell_type": "markdown",
   "id": "cb70e193-332a-4577-b79f-2d9e5797a976",
   "metadata": {},
   "source": [
    "#### The values still look uncorrelated"
   ]
  },
  {
   "cell_type": "markdown",
   "id": "0a697a8c-6b72-4ab1-ae74-2428aa5ad52f",
   "metadata": {},
   "source": [
    "### Converting strings to numbers"
   ]
  },
  {
   "cell_type": "code",
   "execution_count": 12,
   "id": "c1fc7c84-b7d5-441d-8bc6-2557549f4c87",
   "metadata": {},
   "outputs": [],
   "source": [
    "import locale\n",
    "locale.setlocale(locale.LC_ALL, '')\n",
    "\n",
    "def convert_string_to_float(value):\n",
    "    try:\n",
    "        return locale.atof(value[1:])\n",
    "    except:\n",
    "        return value\n",
    "    \n",
    "def convert_percentage_to_float(value):\n",
    "    try:\n",
    "        return locale.atof(value[:-1])\n",
    "    except:\n",
    "        return value"
   ]
  },
  {
   "cell_type": "code",
   "execution_count": 13,
   "id": "49e1b626-fb2a-4a25-9195-e470c3033eab",
   "metadata": {},
   "outputs": [],
   "source": [
    "df['X4'] = df['X4'].apply(lambda value: convert_string_to_float(value))\n",
    "df['X5'] = df['X5'].apply(lambda value: convert_string_to_float(value))\n",
    "df['X6'] = df['X6'].apply(lambda value: convert_string_to_float(value))\n",
    "df['X1'] = df['X1'].apply(lambda value: convert_percentage_to_float(value))\n",
    "df['X30'] = df['X30'].apply(lambda value: convert_percentage_to_float(value))\n",
    "\n",
    "df_testing['X4'] = df_testing['X4'].apply(lambda value: convert_string_to_float(value))\n",
    "df_testing['X5'] = df_testing['X5'].apply(lambda value: convert_string_to_float(value))\n",
    "df_testing['X6'] = df_testing['X6'].apply(lambda value: convert_string_to_float(value))\n",
    "df_testing['X1'] = df_testing['X1'].apply(lambda value: convert_percentage_to_float(value))\n",
    "df_testing['X30'] = df_testing['X30'].apply(lambda value: convert_percentage_to_float(value))"
   ]
  },
  {
   "cell_type": "markdown",
   "id": "c862e956-4f87-4172-83d2-5174b5f4b268",
   "metadata": {},
   "source": [
    "### Checking correlation among variables to drop highly correlated variables"
   ]
  },
  {
   "cell_type": "code",
   "execution_count": 14,
   "id": "4538d4fa-f61f-400b-ad3c-78a173fffa77",
   "metadata": {},
   "outputs": [],
   "source": [
    "import seaborn as sns"
   ]
  },
  {
   "cell_type": "code",
   "execution_count": 15,
   "id": "59353e2a-fc13-4e91-acf9-ca9eb16daa5f",
   "metadata": {},
   "outputs": [
    {
     "data": {
      "text/plain": [
       "<AxesSubplot:>"
      ]
     },
     "execution_count": 15,
     "metadata": {},
     "output_type": "execute_result"
    },
    {
     "data": {
      "image/png": "[encoded data removed]",
      "text/plain": [
       "<Figure size 1080x720 with 2 Axes>"
      ]
     },
     "metadata": {},
     "output_type": "display_data"
    }
   ],
   "source": [
    "# plot the heatmap\n",
    "sns.set(rc={'figure.figsize':(15, 10)})\n",
    "sns.heatmap(df.corr(), cmap='Blues', annot=True)"
   ]
  },
  {
   "cell_type": "code",
   "execution_count": 16,
   "id": "349a1ace-4ac6-4052-ae2f-b99289b57414",
   "metadata": {},
   "outputs": [],
   "source": [
    "## Dropping highly corelated columns\n",
    "df = df.drop(axis = 1, columns = ['X2', 'X4', 'X6'])\n",
    "## Also, Since Loan ID won't be useful in prediction, we can drop it regardless \n",
    "df = df.drop(axis = 1, columns = ['X3'])\n",
    "\n",
    "## Dropping highly corelated columns\n",
    "df_testing = df_testing.drop(axis = 1, columns = ['X2', 'X4', 'X6'])\n",
    "## Also, Since Loan ID won't be useful in prediction, we can drop it regardless \n",
    "df_testing = df_testing.drop(axis = 1, columns = ['X3'])"
   ]
  },
  {
   "cell_type": "code",
   "execution_count": 17,
   "id": "5e16f284-eec4-4d5e-be10-3ec39f5ecbbc",
   "metadata": {},
   "outputs": [
    {
     "name": "stdout",
     "output_type": "stream",
     "text": [
      "<class 'pandas.core.frame.DataFrame'>\n",
      "Int64Index: 338990 entries, 0 to 399999\n",
      "Data columns (total 28 columns):\n",
      " #   Column  Non-Null Count   Dtype  \n",
      "---  ------  --------------   -----  \n",
      " 0   X1      338990 non-null  float64\n",
      " 1   X5      338989 non-null  float64\n",
      " 2   X7      338989 non-null  object \n",
      " 3   X8      287123 non-null  object \n",
      " 4   X9      287123 non-null  object \n",
      " 5   X10     318733 non-null  object \n",
      " 6   X11     324195 non-null  object \n",
      " 7   X12     287030 non-null  object \n",
      " 8   X13     287238 non-null  float64\n",
      " 9   X14     338989 non-null  object \n",
      " 10  X15     338989 non-null  object \n",
      " 11  X16     105056 non-null  object \n",
      " 12  X17     338989 non-null  object \n",
      " 13  X18     338973 non-null  object \n",
      " 14  X19     338989 non-null  object \n",
      " 15  X20     338989 non-null  object \n",
      " 16  X21     338989 non-null  float64\n",
      " 17  X22     338989 non-null  float64\n",
      " 18  X23     338989 non-null  object \n",
      " 19  X24     338989 non-null  float64\n",
      " 20  X25     338990 non-null  float64\n",
      " 21  X26     43400 non-null   float64\n",
      " 22  X27     338989 non-null  float64\n",
      " 23  X28     338989 non-null  float64\n",
      " 24  X29     338989 non-null  float64\n",
      " 25  X30     338765 non-null  float64\n",
      " 26  X31     338989 non-null  float64\n",
      " 27  X32     338989 non-null  object \n",
      "dtypes: float64(13), object(15)\n",
      "memory usage: 75.0+ MB\n"
     ]
    }
   ],
   "source": [
    "df.info()"
   ]
  },
  {
   "cell_type": "markdown",
   "id": "e78b9eb9-d7bb-4c50-958a-048d3d15f914",
   "metadata": {},
   "source": [
    "# Looking at individual columns"
   ]
  },
  {
   "cell_type": "code",
   "execution_count": 18,
   "id": "a6c34b2c-d0a1-42eb-b076-c71789210e93",
   "metadata": {},
   "outputs": [],
   "source": [
    "def check_nulls(column):\n",
    "    print(f'Percentage of nulls = {column.isnull().sum()/len(column)*100}') \n",
    "    print(f'# Null values = {column.isnull().sum()}')"
   ]
  },
  {
   "cell_type": "markdown",
   "id": "0097c9ef-0cf5-4be6-878d-9d64ab97135b",
   "metadata": {},
   "source": [
    "## X5 - Loan amount funded"
   ]
  },
  {
   "cell_type": "code",
   "execution_count": 19,
   "id": "b13dc8aa-8c1f-4c80-a456-d54db22e7470",
   "metadata": {},
   "outputs": [
    {
     "name": "stdout",
     "output_type": "stream",
     "text": [
      "Percentage of nulls = 0.0002949939526239712\n",
      "# Null values = 1\n",
      "Percentage of nulls = 0.0\n",
      "# Null values = 0\n"
     ]
    }
   ],
   "source": [
    "check_nulls(df['X5'])\n",
    "check_nulls(df_testing['X5'])"
   ]
  },
  {
   "cell_type": "markdown",
   "id": "64fa11fd-6b82-4dac-8fc7-10b617a697c1",
   "metadata": {},
   "source": [
    "#### Since there is only one null value in df, we can drop it"
   ]
  },
  {
   "cell_type": "code",
   "execution_count": 20,
   "id": "d3e8f134-4b5a-405e-9598-97e2e4a0c3ee",
   "metadata": {},
   "outputs": [],
   "source": [
    "df = df.dropna(axis = 0, subset = 'X5')"
   ]
  },
  {
   "cell_type": "code",
   "execution_count": 21,
   "id": "ae734498-4083-4974-9c90-91ea6d225949",
   "metadata": {},
   "outputs": [
    {
     "data": {
      "text/plain": [
       "<AxesSubplot:>"
      ]
     },
     "execution_count": 21,
     "metadata": {},
     "output_type": "execute_result"
    },
    {
     "data": {
      "image/png": "[encoded data removed]",
      "text/plain": [
       "<Figure size 1080x720 with 1 Axes>"
      ]
     },
     "metadata": {},
     "output_type": "display_data"
    }
   ],
   "source": [
    "df['X5'].value_counts().sort_index().plot()"
   ]
  },
  {
   "cell_type": "markdown",
   "id": "5f679c4f-e16b-4533-a032-ab09f2ac6db0",
   "metadata": {},
   "source": [
    "## X7 - Number of payments"
   ]
  },
  {
   "cell_type": "code",
   "execution_count": 22,
   "id": "92a8e1f3-2fe1-43bb-a93d-0359718ad1d2",
   "metadata": {},
   "outputs": [
    {
     "name": "stdout",
     "output_type": "stream",
     "text": [
      "Percentage of nulls = 0.0\n",
      "# Null values = 0\n",
      "Percentage of nulls = 0.0\n",
      "# Null values = 0\n"
     ]
    }
   ],
   "source": [
    "check_nulls(df['X7'])\n",
    "check_nulls(df_testing['X7'])"
   ]
  },
  {
   "cell_type": "code",
   "execution_count": 23,
   "id": "f9eba2c3-56f0-4cc4-9e15-fb57401028af",
   "metadata": {},
   "outputs": [
    {
     "data": {
      "text/plain": [
       " 36 months    247791\n",
       " 60 months     91198\n",
       "Name: X7, dtype: int64"
      ]
     },
     "execution_count": 23,
     "metadata": {},
     "output_type": "execute_result"
    }
   ],
   "source": [
    "df['X7'].value_counts()"
   ]
  },
  {
   "cell_type": "markdown",
   "id": "fa94211d-05a0-4f1b-8f75-e2dfe31b3c93",
   "metadata": {},
   "source": [
    "##### Converting to categorical data"
   ]
  },
  {
   "cell_type": "code",
   "execution_count": 24,
   "id": "12e15645-c47f-416a-b5ff-e5b76883bf4d",
   "metadata": {},
   "outputs": [
    {
     "data": {
      "text/plain": [
       "' 36 months'"
      ]
     },
     "execution_count": 24,
     "metadata": {},
     "output_type": "execute_result"
    }
   ],
   "source": [
    "df['X7'][1]"
   ]
  },
  {
   "cell_type": "code",
   "execution_count": 25,
   "id": "5b2accdb-ed83-4c64-9a0c-199f7e35e023",
   "metadata": {},
   "outputs": [],
   "source": [
    "df.loc[:, 'X7'] = df['X7'].apply(lambda flag: 0 if flag.strip() == '36 months' else 1)\n",
    "df_testing.loc[:, 'X7'] = df_testing['X7'].apply(lambda flag: 0 if flag.strip() == '36 months' else 1)"
   ]
  },
  {
   "cell_type": "code",
   "execution_count": 26,
   "id": "215d4267-bc1d-46ea-9495-585000fcf6bd",
   "metadata": {},
   "outputs": [
    {
     "data": {
      "text/plain": [
       "0    247791\n",
       "1     91198\n",
       "Name: X7, dtype: int64"
      ]
     },
     "execution_count": 26,
     "metadata": {},
     "output_type": "execute_result"
    }
   ],
   "source": [
    "df['X7'].value_counts()"
   ]
  },
  {
   "cell_type": "code",
   "execution_count": 27,
   "id": "43866908-562a-4b4a-a9b9-d2d9ee095bf4",
   "metadata": {},
   "outputs": [
    {
     "data": {
      "text/plain": [
       "0    53630\n",
       "1    26370\n",
       "Name: X7, dtype: int64"
      ]
     },
     "execution_count": 27,
     "metadata": {},
     "output_type": "execute_result"
    }
   ],
   "source": [
    "df_testing['X7'].value_counts()"
   ]
  },
  {
   "cell_type": "markdown",
   "id": "7949e5f6-aebc-4208-80ed-71568652745d",
   "metadata": {},
   "source": [
    "## X8 - Grade of loan"
   ]
  },
  {
   "cell_type": "code",
   "execution_count": 28,
   "id": "d15789b4-0d6b-4bea-80e2-e1ccf314416f",
   "metadata": {},
   "outputs": [
    {
     "name": "stdout",
     "output_type": "stream",
     "text": [
      "Percentage of nulls = 15.300201481464\n",
      "# Null values = 51866\n",
      "Percentage of nulls = 0.0\n",
      "# Null values = 0\n"
     ]
    }
   ],
   "source": [
    "check_nulls(df['X8'])\n",
    "check_nulls(df_testing['X8'])"
   ]
  },
  {
   "cell_type": "code",
   "execution_count": 29,
   "id": "6b1434f4-9692-4a70-8cf9-393fef07e1a0",
   "metadata": {},
   "outputs": [
    {
     "data": {
      "text/plain": [
       "<AxesSubplot:>"
      ]
     },
     "execution_count": 29,
     "metadata": {},
     "output_type": "execute_result"
    },
    {
     "data": {
      "image/png": "[encoded data removed]",
      "text/plain": [
       "<Figure size 1080x720 with 1 Axes>"
      ]
     },
     "metadata": {},
     "output_type": "display_data"
    }
   ],
   "source": [
    "df['X8'].value_counts().sort_index().plot()"
   ]
  },
  {
   "cell_type": "markdown",
   "id": "5c1475f8-fe87-48f0-9ee9-bdfa53c847a1",
   "metadata": {},
   "source": [
    "#### Based on general banking practices, longer term loans have lower grades, and subsequently higher interest rates, thus, rather than imputing missing values are mode or median, if we can replace them by median of those two subgroups, we can get better results than replacing by overall median "
   ]
  },
  {
   "cell_type": "code",
   "execution_count": 30,
   "id": "56519518-2fee-4870-8cc6-5fb730991df7",
   "metadata": {},
   "outputs": [],
   "source": [
    "df.loc[(df['X7'] == 0) & (df['X8'].isnull()), 'X8'] = df[df['X7'] == 0]['X8'].mode()[0]\n",
    "df.loc[(df['X7'] == 1) & (df['X8'].isnull()), 'X8'] = df[df['X7'] == 1]['X8'].mode()[0]"
   ]
  },
  {
   "cell_type": "code",
   "execution_count": 31,
   "id": "2b983796-1a1e-4738-9fc5-474b7ada314e",
   "metadata": {},
   "outputs": [
    {
     "data": {
      "text/plain": [
       "B    123933\n",
       "C     90500\n",
       "D     46984\n",
       "A     45525\n",
       "E     21628\n",
       "F      8395\n",
       "G      2024\n",
       "Name: X8, dtype: int64"
      ]
     },
     "execution_count": 31,
     "metadata": {},
     "output_type": "execute_result"
    }
   ],
   "source": [
    "df['X8'].value_counts()"
   ]
  },
  {
   "cell_type": "code",
   "execution_count": 32,
   "id": "7ae8afc4-92f0-4b91-9d73-98c68d4fae67",
   "metadata": {},
   "outputs": [],
   "source": [
    "df['X8'] = df['X8'].map({\n",
    "    'A' : 0,\n",
    "    'B' : 1,\n",
    "    'C' : 2,\n",
    "    'D' : 3,\n",
    "    'E' : 4,\n",
    "    'F' : 5,\n",
    "    'G' : 6\n",
    "})"
   ]
  },
  {
   "cell_type": "code",
   "execution_count": 33,
   "id": "733fc9f0-fa1a-4661-bdb0-36e4c96e6a9c",
   "metadata": {},
   "outputs": [],
   "source": [
    "df_testing.loc[(df_testing['X7'] == 0) & (df_testing['X8'].isnull()), 'X8'] = \\\n",
    "    df_testing[df_testing['X7'] == 0]['X8'].mode()[0]\n",
    "df_testing.loc[(df_testing['X7'] == 1) & (df_testing['X8'].isnull()), 'X8'] = \\\n",
    "    df_testing[df_testing['X7'] == 1]['X8'].mode()[0]"
   ]
  },
  {
   "cell_type": "code",
   "execution_count": 34,
   "id": "95c1cf34-75ef-4942-9f22-4d4f85b23284",
   "metadata": {},
   "outputs": [],
   "source": [
    "df_testing['X8'] = df_testing['X8'].map({\n",
    "    'A' : 0,\n",
    "    'B' : 1,\n",
    "    'C' : 2,\n",
    "    'D' : 3,\n",
    "    'E' : 4,\n",
    "    'F' : 5,\n",
    "    'G' : 6\n",
    "})"
   ]
  },
  {
   "cell_type": "code",
   "execution_count": 35,
   "id": "7c73f7dd-ed9b-445e-aac8-7804dc5af275",
   "metadata": {},
   "outputs": [
    {
     "data": {
      "text/plain": [
       "1    123933\n",
       "2     90500\n",
       "3     46984\n",
       "0     45525\n",
       "4     21628\n",
       "5      8395\n",
       "6      2024\n",
       "Name: X8, dtype: int64"
      ]
     },
     "execution_count": 35,
     "metadata": {},
     "output_type": "execute_result"
    }
   ],
   "source": [
    "df['X8'].value_counts()"
   ]
  },
  {
   "cell_type": "markdown",
   "id": "59403817-4ee9-4228-9574-e89760b71b5d",
   "metadata": {},
   "source": [
    "## X9 - Subgrades of loan"
   ]
  },
  {
   "cell_type": "code",
   "execution_count": 36,
   "id": "7db8de56-8396-467b-8924-832e81c10db9",
   "metadata": {},
   "outputs": [
    {
     "name": "stdout",
     "output_type": "stream",
     "text": [
      "Percentage of nulls = 15.300201481464\n",
      "# Null values = 51866\n",
      "Percentage of nulls = 0.0\n",
      "# Null values = 0\n"
     ]
    }
   ],
   "source": [
    "check_nulls(df['X9'])\n",
    "check_nulls(df_testing['X9'])"
   ]
  },
  {
   "cell_type": "code",
   "execution_count": 37,
   "id": "3ec5f64b-4857-423b-aa07-e44d4833c67d",
   "metadata": {},
   "outputs": [
    {
     "data": {
      "text/plain": [
       "<AxesSubplot:>"
      ]
     },
     "execution_count": 37,
     "metadata": {},
     "output_type": "execute_result"
    },
    {
     "data": {
      "image/png": "[encoded data removed]",
      "text/plain": [
       "<Figure size 1080x720 with 1 Axes>"
      ]
     },
     "metadata": {},
     "output_type": "display_data"
    }
   ],
   "source": [
    "df['X9'].value_counts().sort_index().plot()"
   ]
  },
  {
   "cell_type": "code",
   "execution_count": 38,
   "id": "f75a9b03-953e-40c4-89f6-1e140e77f665",
   "metadata": {},
   "outputs": [],
   "source": [
    "df.loc[(df['X8'] == 0) & (df['X9'].isnull()), 'X9'] = 'A2'"
   ]
  },
  {
   "cell_type": "code",
   "execution_count": 39,
   "id": "f49e09be-d4bb-45f5-ad9b-87e1a984a703",
   "metadata": {},
   "outputs": [],
   "source": [
    "df.loc[(df['X8'] == 1) & (df['X9'].isnull()), 'X9'] = 'B2'"
   ]
  },
  {
   "cell_type": "code",
   "execution_count": 40,
   "id": "16c6edf0-69ed-4b07-8d4b-ce3c2f74c31f",
   "metadata": {},
   "outputs": [],
   "source": [
    "df.loc[(df['X8'] == 2) & (df['X9'].isnull()), 'X9'] = 'C2'"
   ]
  },
  {
   "cell_type": "code",
   "execution_count": 41,
   "id": "ffe789cf-d35a-4890-8ec5-e300c177c3c9",
   "metadata": {},
   "outputs": [],
   "source": [
    "df.loc[(df['X8'] == 3) & (df['X9'].isnull()), 'X9'] = 'D2'"
   ]
  },
  {
   "cell_type": "code",
   "execution_count": 42,
   "id": "73552ca1-c671-42ea-b6d5-f39b8d1ff037",
   "metadata": {},
   "outputs": [],
   "source": [
    "df.loc[(df['X8'] == 4) & (df['X9'].isnull()), 'X9'] = 'E2'"
   ]
  },
  {
   "cell_type": "code",
   "execution_count": 43,
   "id": "1df5eebe-512c-4cfa-be42-77d5da92b70e",
   "metadata": {},
   "outputs": [],
   "source": [
    "df.loc[(df['X8'] == 5) & (df['X9'].isnull()), 'X9'] = 'F2'"
   ]
  },
  {
   "cell_type": "code",
   "execution_count": 44,
   "id": "31a4ae00-7bdc-4ce8-b780-a1685603c784",
   "metadata": {},
   "outputs": [],
   "source": [
    "df.loc[(df['X8'] == 6) & (df['X9'].isnull()), 'X9'] = 'G2'"
   ]
  },
  {
   "cell_type": "code",
   "execution_count": 45,
   "id": "12b99cc5-ec95-483d-8629-2801c83503ad",
   "metadata": {},
   "outputs": [],
   "source": [
    "df['X9'] = df['X9'].str.replace('A', '0').str.replace('B', '1')\\\n",
    "                .str.replace('C', '2').str.replace('D', '3')\\\n",
    "                .str.replace('E', '4').str.replace('F', '5')\\\n",
    "                .str.replace('G', '6').astype(int)\n",
    "\n",
    "df_testing['X9'] = df_testing['X9'].str.replace('A', '0').str.replace('B', '1')\\\n",
    "                .str.replace('C', '2').str.replace('D', '3')\\\n",
    "                .str.replace('E', '4').str.replace('F', '5')\\\n",
    "                .str.replace('G', '6').astype(int)"
   ]
  },
  {
   "cell_type": "markdown",
   "id": "d4a925fe-6b25-44ab-884d-63c0b0ded607",
   "metadata": {},
   "source": [
    "## X10 - Employer or job title"
   ]
  },
  {
   "cell_type": "code",
   "execution_count": 46,
   "id": "2c0ac39e-f705-4ec5-a2eb-f148f8b63746",
   "metadata": {},
   "outputs": [
    {
     "name": "stdout",
     "output_type": "stream",
     "text": [
      "Percentage of nulls = 5.975415131464443\n",
      "# Null values = 20256\n",
      "Percentage of nulls = 5.4925\n",
      "# Null values = 4394\n"
     ]
    }
   ],
   "source": [
    "check_nulls(df['X10'])\n",
    "check_nulls(df_testing['X10'])"
   ]
  },
  {
   "cell_type": "code",
   "execution_count": 47,
   "id": "c4243932-0b25-43c5-ab79-ae4767ed6aa2",
   "metadata": {},
   "outputs": [],
   "source": [
    "df['X10'] = df['X10'].fillna('missing').str.lower()\n",
    "df_testing['X10'] = df_testing['X10'].fillna('missing').str.lower()"
   ]
  },
  {
   "cell_type": "code",
   "execution_count": 48,
   "id": "1a97cfe2-b4f6-43a9-9fb2-8623f8879673",
   "metadata": {},
   "outputs": [
    {
     "data": {
      "text/plain": [
       "missing                              20256\n",
       "teacher                               4421\n",
       "manager                               3908\n",
       "registered nurse                      2170\n",
       "supervisor                            1897\n",
       "                                     ...  \n",
       "genetic technologies, inc                1\n",
       "mobile productivity inc                  1\n",
       "401 e. ontario condo. assn.              1\n",
       "skyjack                                  1\n",
       "senior creative designer/ad sales        1\n",
       "Name: X10, Length: 146990, dtype: int64"
      ]
     },
     "execution_count": 48,
     "metadata": {},
     "output_type": "execute_result"
    }
   ],
   "source": [
    "df['X10'].value_counts()"
   ]
  },
  {
   "cell_type": "markdown",
   "id": "110b3d94-3801-4cc6-af84-6059650be49d",
   "metadata": {},
   "source": [
    "#### Since there are 160k+ unique values for profession, we'll need to do some topic modelling "
   ]
  },
  {
   "cell_type": "code",
   "execution_count": 49,
   "id": "9bef5937-68b0-4d61-9803-ec3a8c355bbb",
   "metadata": {},
   "outputs": [
    {
     "data": {
      "text/html": [
       "<div>\n",
       "<style scoped>\n",
       "    .dataframe tbody tr th:only-of-type {\n",
       "        vertical-align: middle;\n",
       "    }\n",
       "\n",
       "    .dataframe tbody tr th {\n",
       "        vertical-align: top;\n",
       "    }\n",
       "\n",
       "    .dataframe thead th {\n",
       "        text-align: right;\n",
       "    }\n",
       "</style>\n",
       "<table border=\"1\" class=\"dataframe\">\n",
       "  <thead>\n",
       "    <tr style=\"text-align: right;\">\n",
       "      <th></th>\n",
       "      <th>data</th>\n",
       "    </tr>\n",
       "  </thead>\n",
       "  <tbody>\n",
       "    <tr>\n",
       "      <th>0</th>\n",
       "      <td>mother  theresa  home</td>\n",
       "    </tr>\n",
       "    <tr>\n",
       "      <th>1</th>\n",
       "      <td>quitman street community school</td>\n",
       "    </tr>\n",
       "    <tr>\n",
       "      <th>2</th>\n",
       "      <td>bus operator and instructor</td>\n",
       "    </tr>\n",
       "    <tr>\n",
       "      <th>3</th>\n",
       "      <td>fibro source</td>\n",
       "    </tr>\n",
       "    <tr>\n",
       "      <th>4</th>\n",
       "      <td>long ilsand college hospital</td>\n",
       "    </tr>\n",
       "  </tbody>\n",
       "</table>\n",
       "</div>"
      ],
      "text/plain": [
       "                              data\n",
       "0            mother  theresa  home\n",
       "1  quitman street community school\n",
       "2      bus operator and instructor\n",
       "3                     fibro source\n",
       "4     long ilsand college hospital"
      ]
     },
     "execution_count": 49,
     "metadata": {},
     "output_type": "execute_result"
    }
   ],
   "source": [
    "professions = [i.strip() for i in list(np.unique(df['X10'].value_counts().index.str.lower().values))]\n",
    "profession_df = pd.DataFrame(professions, columns = ['data'])\n",
    "profession_df.head()"
   ]
  },
  {
   "cell_type": "code",
   "execution_count": 50,
   "id": "05ad07cf-b67a-4b80-a4a5-7693d0220d04",
   "metadata": {},
   "outputs": [],
   "source": [
    "def assign_to_category_X10(description):\n",
    "    if('school' in description or 'teach' in description or 'prof' in description or 'instruct' in description or 'university' in description or 'edu' in description):\n",
    "        return 'teacher'\n",
    "    if('sale' in description or 'cashier' in description):\n",
    "        return 'sales'\n",
    "    if('drive' in description or 'transport' in description or 'goods' in description or 'carrier' in description):\n",
    "        return 'transportation'\n",
    "    if('nurse' in description or 'rn' in description or 'doc' in description or 'physician' in description or 'hospital' in description or 'eye' in description \n",
    "       or 'health' in description or 'medic' in description or 'vet' in description or 'wellnes' in description or 'fit' in description or 'cancer' in description\n",
    "       or 'therap' in description or 'dr' in description or 'pharma' in description or 'care' in description):\n",
    "        return 'healthcare'\n",
    "    if('exec' in description or 'manager' in description or 'supervisor' in description or 'director' in description or 'president' in description or 'owner' in description\n",
    "      or 'mgmt' in description or 'ceo' in description or 'cfo' in description or 'management' in description or 'partner' in description or 'vp' in description or 'mgr' in description):\n",
    "        return 'management'\n",
    "    if('engineer' in description or 'foreman' in description or 'mechanic' in description or 'security' in description or 'clerk' in description or 'technician' in description \n",
    "       or 'electrician' in description or 'machin' in description or 'cook' in description or 'server' in description or 'drill' in description or 'weld' in description\n",
    "       or 'material' in description or 'operator' in description or 'spare' in description or 'parts' in description or 'assist' in description or 'recept' in description\n",
    "       or 'attendant' in description or 'plumber' in description or 'painter' in description or 'agent' in description or 'labor' in description or 'realtor' in description\n",
    "       or 'install' in description or 'chef' in description or 'super' in description or 'bar' in description or 'electric' in description or 'restraunt' in description):\n",
    "        return 'blue collar'\n",
    "    if('develop' in description or 'software' in description or 'analyst' in description or 'tech' in description or 'system' in description or 'solution' in description\n",
    "       or 'associate' in description or 'it' in description or 'designer' in description):\n",
    "        return 'software'\n",
    "    if('bank' in description or 'book' in description or 'cash' in description or 'account' in description or 'law' in description or 'legal' in description \n",
    "       or 'teller' in description or 'credit' in description or 'revenue' in description or 'fin' in description or 'insur' in description):\n",
    "        return 'finance & law'\n",
    "    if('poli' in description or 'army' in description or 'us' in description or 'firefighter' in description or 'u.s.' in description or 'service' in description \n",
    "       or 'sanitation' in description or ' of ' in description or ' city' in description or 'officer' in description\n",
    "      or 'center' in description): ## 'of' in the middle of sentence usually refers to a public service like(city of newyork, department of transit, etc)\n",
    "        return 'public service'\n",
    "    if('co' in description or 'inc' in description or 'group' in description or 'ltd' in description or '&' in description or 'llc' in description):\n",
    "        return 'company'\n",
    "    if('ups' in description or 'walmart' in description or 'goldman' in description or 'cna' in description or 'wells fargo' in description or 'home depot' in description or 'lowe' in description\n",
    "       or 'gmc' in description or 'market' in description or 'chase' in description or 'hotel' in description or 'ge' in description or 'wal-mart' in description or 'target' in description or 'walgreens' in description):\n",
    "        return 'big companies'\n",
    "    if('specialist' in description or 'senior' in description or 'lead' in description or 'sr' in description or 'admin' in description ):\n",
    "        return 'specialist'\n",
    "    return description"
   ]
  },
  {
   "cell_type": "code",
   "execution_count": 51,
   "id": "734c96d5-7833-46ac-adf0-4ddd6c6a8ba9",
   "metadata": {
    "scrolled": true,
    "tags": []
   },
   "outputs": [],
   "source": [
    "df['X10'] = df['X10'].apply(lambda description: assign_to_category_X10(description))\n",
    "df_testing['X10'] = df_testing['X10'].apply(lambda description: assign_to_category_X10(description))"
   ]
  },
  {
   "cell_type": "code",
   "execution_count": 52,
   "id": "02575732-565c-4dab-bc61-bc1465d1c0fe",
   "metadata": {},
   "outputs": [],
   "source": [
    "top_categories = df['X10'].value_counts().index[:11]\n",
    "df['X10'] = df['X10'].apply(lambda x: x if x in top_categories else 'others')\n",
    "df_testing['X10'] = df_testing['X10'].apply(lambda x: x if x in top_categories else 'others')"
   ]
  },
  {
   "cell_type": "code",
   "execution_count": 53,
   "id": "7cc89fa9-e535-408c-86ad-05eda302ff5a",
   "metadata": {},
   "outputs": [
    {
     "data": {
      "text/plain": [
       "others            72108\n",
       "management        48218\n",
       "healthcare        34391\n",
       "software          33699\n",
       "company           33361\n",
       "blue collar       29640\n",
       "public service    23591\n",
       "missing           20256\n",
       "teacher           17259\n",
       "finance & law     11246\n",
       "sales              7792\n",
       "big companies      7428\n",
       "Name: X10, dtype: int64"
      ]
     },
     "execution_count": 53,
     "metadata": {},
     "output_type": "execute_result"
    }
   ],
   "source": [
    "df['X10'].value_counts()"
   ]
  },
  {
   "cell_type": "code",
   "execution_count": 54,
   "id": "81ac4051-945a-4349-824b-fe26369da8a4",
   "metadata": {},
   "outputs": [
    {
     "data": {
      "text/plain": [
       "0"
      ]
     },
     "execution_count": 54,
     "metadata": {},
     "output_type": "execute_result"
    }
   ],
   "source": [
    "df['X10'].isnull().sum()"
   ]
  },
  {
   "cell_type": "markdown",
   "id": "83400f27-1dee-43d4-b18c-ede6ef4f93f2",
   "metadata": {},
   "source": [
    "#### Since we have 12 categories, we can do target encoding (becuase one hot encoding will add many features)"
   ]
  },
  {
   "cell_type": "code",
   "execution_count": 55,
   "id": "4315ccb5-e74f-4bb3-8fae-950f2cdbb28a",
   "metadata": {},
   "outputs": [],
   "source": [
    "mean_target = df.groupby('X10')['X1'].mean()"
   ]
  },
  {
   "cell_type": "code",
   "execution_count": 56,
   "id": "b5f5b0bc-dfa9-46ec-b615-4d451057f82d",
   "metadata": {},
   "outputs": [],
   "source": [
    "# Replace the original categorical values with the mean target value\n",
    "df['X10_target_encoded'] = df['X10'].map(mean_target)\n",
    "\n",
    "# To prevent information leakage, using values from train dataset\n",
    "df_testing['X10_target_encoded'] = df_testing['X10'].map(mean_target)"
   ]
  },
  {
   "cell_type": "markdown",
   "id": "7b56c0f4-c7c7-40c6-9304-3363d532e986",
   "metadata": {},
   "source": [
    "## X11 - Number of years employed"
   ]
  },
  {
   "cell_type": "code",
   "execution_count": 57,
   "id": "7e3e5926-449a-4435-b32c-34d40bc2e7f8",
   "metadata": {},
   "outputs": [
    {
     "name": "stdout",
     "output_type": "stream",
     "text": [
      "Percentage of nulls = 4.36415340910767\n",
      "# Null values = 14794\n",
      "Percentage of nulls = 5.4775\n",
      "# Null values = 4382\n"
     ]
    }
   ],
   "source": [
    "check_nulls(df['X11'])\n",
    "check_nulls(df_testing['X11'])"
   ]
  },
  {
   "cell_type": "code",
   "execution_count": 58,
   "id": "31f29ec5-2bf6-47e9-bfbc-23ae62abd249",
   "metadata": {},
   "outputs": [
    {
     "data": {
      "text/plain": [
       "10+ years    108491\n",
       "2 years       30117\n",
       "3 years       26670\n",
       "< 1 year      26003\n",
       "5 years       23072\n",
       "1 year        21432\n",
       "4 years       20259\n",
       "6 years       19601\n",
       "7 years       19445\n",
       "8 years       16212\n",
       "9 years       12893\n",
       "Name: X11, dtype: int64"
      ]
     },
     "execution_count": 58,
     "metadata": {},
     "output_type": "execute_result"
    }
   ],
   "source": [
    "df['X11'].value_counts()"
   ]
  },
  {
   "cell_type": "code",
   "execution_count": 59,
   "id": "4de8a363-c849-4ff9-a94f-13701cb2e38d",
   "metadata": {},
   "outputs": [
    {
     "data": {
      "text/plain": [
       "missing           14662\n",
       "others               42\n",
       "public service       14\n",
       "company              13\n",
       "software             12\n",
       "healthcare           10\n",
       "management           10\n",
       "blue collar          10\n",
       "teacher               9\n",
       "big companies         5\n",
       "finance & law         4\n",
       "sales                 3\n",
       "Name: X10, dtype: int64"
      ]
     },
     "execution_count": 59,
     "metadata": {},
     "output_type": "execute_result"
    }
   ],
   "source": [
    "df[df['X11'].isnull()]['X10'].value_counts()"
   ]
  },
  {
   "cell_type": "markdown",
   "id": "1a121025-7130-4c6a-8190-eb6031e328ad",
   "metadata": {},
   "source": [
    "#### Since we can see people who have missing values in number of years employed also have missing values in 'employer or job title' hence, we can replace na values as 0 year"
   ]
  },
  {
   "cell_type": "code",
   "execution_count": 60,
   "id": "62ac22d1-fa8d-43b2-b531-c7c233eab0c7",
   "metadata": {},
   "outputs": [],
   "source": [
    "df.loc[(df['X11'].isnull()) & (df['X10'] == 'missing'), 'X11'] = '0 year'\n",
    "df_testing.loc[(df_testing['X11'].isnull()) & (df_testing['X10'] == 'missing'), 'X11'] = '0 year'"
   ]
  },
  {
   "cell_type": "code",
   "execution_count": 61,
   "id": "a7b675b4-b582-4899-889d-743c6249f9f4",
   "metadata": {},
   "outputs": [
    {
     "data": {
      "text/plain": [
       "10+ years    108491\n",
       "2 years       30117\n",
       "3 years       26670\n",
       "< 1 year      26003\n",
       "5 years       23072\n",
       "1 year        21432\n",
       "4 years       20259\n",
       "6 years       19601\n",
       "7 years       19445\n",
       "8 years       16212\n",
       "0 year        14662\n",
       "9 years       12893\n",
       "Name: X11, dtype: int64"
      ]
     },
     "execution_count": 61,
     "metadata": {},
     "output_type": "execute_result"
    }
   ],
   "source": [
    "df['X11'].value_counts()"
   ]
  },
  {
   "cell_type": "code",
   "execution_count": 62,
   "id": "313a9dc6-0f28-4d01-b799-a42032921f2b",
   "metadata": {},
   "outputs": [
    {
     "data": {
      "text/plain": [
       "132"
      ]
     },
     "execution_count": 62,
     "metadata": {},
     "output_type": "execute_result"
    }
   ],
   "source": [
    "df['X11'].isnull().sum()"
   ]
  },
  {
   "cell_type": "code",
   "execution_count": 63,
   "id": "59250d06-6ebc-459d-bdfd-cca9cce200d0",
   "metadata": {},
   "outputs": [],
   "source": [
    "df = df.drop(axis = 1, columns = ['X10'])\n",
    "df_testing = df_testing.drop(axis = 1, columns = ['X10'])"
   ]
  },
  {
   "cell_type": "markdown",
   "id": "698bacbf-18e5-4979-823f-15f9b1122dfd",
   "metadata": {},
   "source": [
    "#### Replacing remaining null values with mode"
   ]
  },
  {
   "cell_type": "code",
   "execution_count": 64,
   "id": "d5522351-7b6f-48b2-804c-26a20e7724f2",
   "metadata": {},
   "outputs": [],
   "source": [
    "df['X11'] = df['X11'].fillna(df['X11'].mode()[0])\n",
    "df_testing['X11'] = df_testing['X11'].fillna(df['X11'].mode()[0])"
   ]
  },
  {
   "cell_type": "code",
   "execution_count": 65,
   "id": "7281f5a2-97ba-4984-85f6-74f3b45f9b89",
   "metadata": {},
   "outputs": [
    {
     "data": {
      "text/plain": [
       "<AxesSubplot:>"
      ]
     },
     "execution_count": 65,
     "metadata": {},
     "output_type": "execute_result"
    },
    {
     "data": {
      "image/png": "[encoded data removed]",
      "text/plain": [
       "<Figure size 1080x720 with 1 Axes>"
      ]
     },
     "metadata": {},
     "output_type": "display_data"
    }
   ],
   "source": [
    "df['X11'].value_counts().plot()"
   ]
  },
  {
   "cell_type": "code",
   "execution_count": 66,
   "id": "67ea2e90-bc36-4405-9826-15786744981b",
   "metadata": {},
   "outputs": [],
   "source": [
    "df['X11'] = df['X11'].str.extract(r'(\\d+)').astype(int)\n",
    "df_testing['X11'] = df_testing['X11'].str.extract(r'(\\d+)').astype(int)"
   ]
  },
  {
   "cell_type": "markdown",
   "id": "b21756ff-54bf-4958-9d8f-2c2130c09c0f",
   "metadata": {},
   "source": [
    "### X12 - Home ownership status"
   ]
  },
  {
   "cell_type": "code",
   "execution_count": 67,
   "id": "b2c6e99d-5f2e-4f4b-bab3-1d26260b4416",
   "metadata": {},
   "outputs": [
    {
     "name": "stdout",
     "output_type": "stream",
     "text": [
      "Percentage of nulls = 15.327635999988201\n",
      "# Null values = 51959\n",
      "Percentage of nulls = 0.0\n",
      "# Null values = 0\n"
     ]
    }
   ],
   "source": [
    "check_nulls(df['X12'])\n",
    "check_nulls(df_testing['X12'])"
   ]
  },
  {
   "cell_type": "code",
   "execution_count": 68,
   "id": "8b800c76-8c6a-4cc2-9116-ae2fb46c10ec",
   "metadata": {},
   "outputs": [
    {
     "data": {
      "text/plain": [
       "MORTGAGE    145958\n",
       "RENT        115958\n",
       "OWN          24976\n",
       "OTHER          107\n",
       "NONE            30\n",
       "ANY              1\n",
       "Name: X12, dtype: int64"
      ]
     },
     "execution_count": 68,
     "metadata": {},
     "output_type": "execute_result"
    }
   ],
   "source": [
    "df['X12'].value_counts()"
   ]
  },
  {
   "cell_type": "code",
   "execution_count": 69,
   "id": "b03eb0ae-1e5e-45b1-8bc3-2ceaa2925ca3",
   "metadata": {},
   "outputs": [],
   "source": [
    "df['X12'] = df['X12'].str.replace('NONE', 'OTHER')\n",
    "df['X12'] = df['X12'].str.replace('ANY', 'OTHER')"
   ]
  },
  {
   "cell_type": "code",
   "execution_count": 70,
   "id": "fd2ab405-8811-453f-a782-5a3b69fe1dcd",
   "metadata": {},
   "outputs": [
    {
     "data": {
      "text/plain": [
       "<AxesSubplot:>"
      ]
     },
     "execution_count": 70,
     "metadata": {},
     "output_type": "execute_result"
    },
    {
     "data": {
      "image/png": "[encoded data removed]",
      "text/plain": [
       "<Figure size 1080x720 with 1 Axes>"
      ]
     },
     "metadata": {},
     "output_type": "display_data"
    }
   ],
   "source": [
    "df['X12'].value_counts().plot()"
   ]
  },
  {
   "cell_type": "code",
   "execution_count": 71,
   "id": "fa06fc0a-3782-41ca-8502-57d67d3adacc",
   "metadata": {},
   "outputs": [
    {
     "name": "stdout",
     "output_type": "stream",
     "text": [
      "83247.02745891706\n",
      "62244.18106833083\n"
     ]
    }
   ],
   "source": [
    "print(df[df['X12'] == 'MORTGAGE']['X13'].mean())\n",
    "print(df[df['X12'] == 'RENT']['X13'].mean())"
   ]
  },
  {
   "cell_type": "markdown",
   "id": "351f5f7b-cd0a-464a-9e3a-1be180c91815",
   "metadata": {},
   "source": [
    "### Since people who have mortages have higher income, we can impute missing values using that"
   ]
  },
  {
   "cell_type": "code",
   "execution_count": 72,
   "id": "c4ae75c7-d284-4bc5-b6c1-aa17823b6341",
   "metadata": {},
   "outputs": [],
   "source": [
    "def impute_missing_X12(row):\n",
    "    if(row['X13'] < 70000):\n",
    "        return 'RENT'\n",
    "    return 'MORTGAGE'"
   ]
  },
  {
   "cell_type": "code",
   "execution_count": 73,
   "id": "d4fd24d2-c5aa-415e-bb90-cd833df8e3c5",
   "metadata": {},
   "outputs": [],
   "source": [
    "from tqdm import tqdm\n",
    "tqdm.pandas()"
   ]
  },
  {
   "cell_type": "code",
   "execution_count": 74,
   "id": "a4f3d8d5-f113-44eb-8f81-2bd6b3a55027",
   "metadata": {},
   "outputs": [
    {
     "name": "stderr",
     "output_type": "stream",
     "text": [
      "100%|██████████████████████████████████████████████████████████████████████| 338989/338989 [00:02<00:00, 139154.09it/s]\n"
     ]
    }
   ],
   "source": [
    "df['X12'] = df.progress_apply(lambda row: impute_missing_X12(row) if isinstance(row['X12'], float) else row['X12'], axis = 1)"
   ]
  },
  {
   "cell_type": "code",
   "execution_count": 75,
   "id": "012bebb5-fca4-486f-a6eb-a55395a737b2",
   "metadata": {},
   "outputs": [
    {
     "data": {
      "text/plain": [
       "<AxesSubplot:>"
      ]
     },
     "execution_count": 75,
     "metadata": {},
     "output_type": "execute_result"
    },
    {
     "data": {
      "image/png": "[encoded data removed]",
      "text/plain": [
       "<Figure size 1080x720 with 1 Axes>"
      ]
     },
     "metadata": {},
     "output_type": "display_data"
    }
   ],
   "source": [
    "df['X12'].value_counts().plot()"
   ]
  },
  {
   "cell_type": "code",
   "execution_count": 76,
   "id": "b23b6998-cf20-4961-bc7e-e25429e063a1",
   "metadata": {},
   "outputs": [],
   "source": [
    "df['X12'] = df['X12'].map({\n",
    "    'OWN':0,'RENT':1,'MORTGAGE':2,'OTHER':3\n",
    "})\n",
    "\n",
    "df_testing['X12'] = df_testing['X12'].map({\n",
    "    'OWN':0,'RENT':1,'MORTGAGE':2,'OTHER':3\n",
    "})"
   ]
  },
  {
   "cell_type": "markdown",
   "id": "e2e0c444-42b7-404e-aba0-9d41bfc8736a",
   "metadata": {},
   "source": [
    "### X13 - Salary"
   ]
  },
  {
   "cell_type": "code",
   "execution_count": 77,
   "id": "7cd5f93f-75c1-48ad-be18-4b7030e0e38e",
   "metadata": {},
   "outputs": [
    {
     "name": "stdout",
     "output_type": "stream",
     "text": [
      "Percentage of nulls = 15.266277076837302\n",
      "# Null values = 51751\n",
      "Percentage of nulls = 0.0\n",
      "# Null values = 0\n"
     ]
    }
   ],
   "source": [
    "check_nulls(df['X13'])\n",
    "check_nulls(df_testing['X13'])"
   ]
  },
  {
   "cell_type": "code",
   "execution_count": 78,
   "id": "68015228-427d-4e47-a142-0e79754833b3",
   "metadata": {},
   "outputs": [
    {
     "data": {
      "text/plain": [
       "<AxesSubplot:>"
      ]
     },
     "execution_count": 78,
     "metadata": {},
     "output_type": "execute_result"
    },
    {
     "data": {
      "image/png": "[encoded data removed]",
      "text/plain": [
       "<Figure size 1080x720 with 1 Axes>"
      ]
     },
     "metadata": {},
     "output_type": "display_data"
    }
   ],
   "source": [
    "df['X13'].value_counts().sort_index().plot()"
   ]
  },
  {
   "cell_type": "markdown",
   "id": "5079e8ba-4386-421f-b36a-6bb32b21f3e4",
   "metadata": {},
   "source": [
    "##### Replacing salary values with median will work better than mean"
   ]
  },
  {
   "cell_type": "code",
   "execution_count": 79,
   "id": "8a46f62e-7aca-47d0-8997-e0a2d7373a5a",
   "metadata": {},
   "outputs": [],
   "source": [
    "df['X13'] = df['X13'].fillna(df['X13'].median())\n",
    "df_testing['X13'] = df_testing['X13'].fillna(df['X13'].median())"
   ]
  },
  {
   "cell_type": "markdown",
   "id": "aa9fc5ee-5a18-46f4-80cd-963cc3fc59ed",
   "metadata": {},
   "source": [
    "### X14 - Income verified"
   ]
  },
  {
   "cell_type": "code",
   "execution_count": 80,
   "id": "8d0fa651-16dc-48ba-8e83-4c0d7b41efe7",
   "metadata": {},
   "outputs": [
    {
     "name": "stdout",
     "output_type": "stream",
     "text": [
      "Percentage of nulls = 0.0\n",
      "# Null values = 0\n",
      "Percentage of nulls = 0.0\n",
      "# Null values = 0\n"
     ]
    }
   ],
   "source": [
    "check_nulls(df['X14'])\n",
    "check_nulls(df_testing['X14'])"
   ]
  },
  {
   "cell_type": "code",
   "execution_count": 81,
   "id": "fe82488f-b01e-4f8d-a33b-2f6e67e0dab4",
   "metadata": {},
   "outputs": [
    {
     "data": {
      "text/plain": [
       "VERIFIED - income           127040\n",
       "not verified                107873\n",
       "VERIFIED - income source    104076\n",
       "Name: X14, dtype: int64"
      ]
     },
     "execution_count": 81,
     "metadata": {},
     "output_type": "execute_result"
    }
   ],
   "source": [
    "df['X14'].value_counts()"
   ]
  },
  {
   "cell_type": "code",
   "execution_count": 82,
   "id": "04e7ba06-788b-4ba6-94a5-b1f4f2cd170a",
   "metadata": {},
   "outputs": [],
   "source": [
    "df['X14'] = df['X14'].str.replace('VERIFIED - income source', 'VERIFIED - income')\n",
    "df_testing['X14'] = df_testing['X14'].str.replace('VERIFIED - income source', 'VERIFIED - income')"
   ]
  },
  {
   "cell_type": "code",
   "execution_count": 83,
   "id": "6a75b7e4-3c90-4652-8b1e-5bdc6f0cecab",
   "metadata": {},
   "outputs": [
    {
     "data": {
      "text/plain": [
       "VERIFIED - income    231116\n",
       "not verified         107873\n",
       "Name: X14, dtype: int64"
      ]
     },
     "execution_count": 83,
     "metadata": {},
     "output_type": "execute_result"
    }
   ],
   "source": [
    "df['X14'].value_counts()"
   ]
  },
  {
   "cell_type": "code",
   "execution_count": 84,
   "id": "90af8ce8-bd66-4bd3-8c0d-408a19f92d61",
   "metadata": {},
   "outputs": [
    {
     "data": {
      "text/plain": [
       "VERIFIED - income    58027\n",
       "not verified         21973\n",
       "Name: X14, dtype: int64"
      ]
     },
     "execution_count": 84,
     "metadata": {},
     "output_type": "execute_result"
    }
   ],
   "source": [
    "df_testing['X14'].value_counts()"
   ]
  },
  {
   "cell_type": "code",
   "execution_count": 85,
   "id": "560d275d-89fc-49b2-9550-193b76775f17",
   "metadata": {},
   "outputs": [],
   "source": [
    "df['X14'] = df['X14'].apply(lambda flag: 0 if flag.strip() == 'not verified' else 1)\n",
    "df_testing['X14'] = df_testing['X14'].apply(lambda flag: 0 if flag.strip() == 'not verified' else 1)"
   ]
  },
  {
   "cell_type": "code",
   "execution_count": 86,
   "id": "9b4991ad-a7a7-4d62-8156-58f8d19c42ce",
   "metadata": {},
   "outputs": [
    {
     "data": {
      "text/plain": [
       "1    231116\n",
       "0    107873\n",
       "Name: X14, dtype: int64"
      ]
     },
     "execution_count": 86,
     "metadata": {},
     "output_type": "execute_result"
    }
   ],
   "source": [
    "df['X14'].value_counts()"
   ]
  },
  {
   "cell_type": "markdown",
   "id": "0225f085-7956-464f-98ed-0187167ea844",
   "metadata": {},
   "source": [
    "### X15 - Date loan was issued"
   ]
  },
  {
   "cell_type": "code",
   "execution_count": 87,
   "id": "5db542a7-584e-49a4-90c0-275192fd9a82",
   "metadata": {},
   "outputs": [
    {
     "name": "stdout",
     "output_type": "stream",
     "text": [
      "Percentage of nulls = 0.0\n",
      "# Null values = 0\n",
      "Percentage of nulls = 0.0\n",
      "# Null values = 0\n"
     ]
    }
   ],
   "source": [
    "check_nulls(df['X15'])\n",
    "check_nulls(df_testing['X15'])"
   ]
  },
  {
   "cell_type": "code",
   "execution_count": 88,
   "id": "b89ea267-b27d-44a4-bf46-c7fd69e507d5",
   "metadata": {},
   "outputs": [
    {
     "data": {
      "text/plain": [
       "0    Aug-09\n",
       "1    May-08\n",
       "2    Aug-14\n",
       "3    Mar-10\n",
       "4    Nov-09\n",
       "Name: X15, dtype: object"
      ]
     },
     "execution_count": 88,
     "metadata": {},
     "output_type": "execute_result"
    }
   ],
   "source": [
    "df['X15'].head()"
   ]
  },
  {
   "cell_type": "code",
   "execution_count": 89,
   "id": "e2bf4484-cb19-41d2-ad24-a1da00e31604",
   "metadata": {},
   "outputs": [
    {
     "data": {
      "text/plain": [
       "2014-07-01    24797\n",
       "2014-04-01    16175\n",
       "2014-05-01    16169\n",
       "2014-08-01    15896\n",
       "2014-06-01    14557\n",
       "              ...  \n",
       "2008-09-01       32\n",
       "2007-08-01       31\n",
       "2007-07-01       27\n",
       "2007-09-01       17\n",
       "2007-06-01        1\n",
       "Name: X15, Length: 91, dtype: int64"
      ]
     },
     "execution_count": 89,
     "metadata": {},
     "output_type": "execute_result"
    }
   ],
   "source": [
    "df['X15'] = pd.to_datetime(df['X15'], format='%b-%y')\n",
    "df['X15'].value_counts()"
   ]
  },
  {
   "cell_type": "code",
   "execution_count": 90,
   "id": "3b351208-e50d-47cb-93e8-df5bad54168a",
   "metadata": {},
   "outputs": [],
   "source": [
    "df['X15_month'] = df['X15'].dt.month\n",
    "df['X15_year'] = df['X15'].dt.year\n",
    "df = df.drop(axis = 1, columns = ['X15'])"
   ]
  },
  {
   "cell_type": "code",
   "execution_count": 91,
   "id": "58154373-ec2c-4183-bedc-e7ec50414abe",
   "metadata": {},
   "outputs": [
    {
     "data": {
      "text/plain": [
       "0    15-Mar\n",
       "1    15-Mar\n",
       "2    15-Mar\n",
       "3    15-Mar\n",
       "4    15-Mar\n",
       "Name: X15, dtype: object"
      ]
     },
     "execution_count": 91,
     "metadata": {},
     "output_type": "execute_result"
    }
   ],
   "source": [
    "df_testing['X15'].head()"
   ]
  },
  {
   "cell_type": "code",
   "execution_count": 92,
   "id": "894ab017-c715-4cc0-8765-85565037f30f",
   "metadata": {},
   "outputs": [],
   "source": [
    "df_testing['X15'] = pd.to_datetime(df_testing['X15'], format='%y-%b')\n",
    "df_testing['X15_month'] = df_testing['X15'].dt.month\n",
    "df_testing['X15_year'] = df_testing['X15'].dt.year\n",
    "df_testing = df_testing.drop(axis = 1, columns = ['X15'])"
   ]
  },
  {
   "cell_type": "markdown",
   "id": "3f79a396-0ef5-4600-b243-d4a7c683a78d",
   "metadata": {},
   "source": [
    "### X16 - Reason for loan"
   ]
  },
  {
   "cell_type": "code",
   "execution_count": 93,
   "id": "b5587e67-3398-45d3-8ada-db23c9965d4e",
   "metadata": {},
   "outputs": [
    {
     "name": "stdout",
     "output_type": "stream",
     "text": [
      "Percentage of nulls = 69.0090238916307\n",
      "# Null values = 233933\n",
      "Percentage of nulls = 99.98125\n",
      "# Null values = 79985\n"
     ]
    }
   ],
   "source": [
    "check_nulls(df['X16'])\n",
    "check_nulls(df_testing['X16'])"
   ]
  },
  {
   "cell_type": "code",
   "execution_count": 94,
   "id": "396a9866-61e1-478d-b1a5-c7df4f27e7d4",
   "metadata": {},
   "outputs": [
    {
     "data": {
      "text/plain": [
       "                                                                                                                                                                                                                                                                                                                                         190\n",
       "Debt Consolidation                                                                                                                                                                                                                                                                                                                        10\n",
       "  Borrower added on 03/10/14 > Debt consolidation<br>                                                                                                                                                                                                                                                                                      9\n",
       "  Borrower added on 03/17/14 > Debt consolidation<br>                                                                                                                                                                                                                                                                                      8\n",
       "  Borrower added on 02/19/14 > Debt consolidation<br>                                                                                                                                                                                                                                                                                      8\n",
       "                                                                                                                                                                                                                                                                                                                                        ... \n",
       "  Borrower added on 07/11/12 > I have credit card debt with around 20% interest so I would like to consolidate them using this loan. Thank you for your time.<br>                                                                                                                                                                          1\n",
       "  Borrower added on 07/18/12 > Remodeling Bathroom &amp; Closet. Need to buy Whirlpool Tub, Pedestal Sink, Faucets ( Sink/Tub), Flooring for Bathroom &amp; Closet, Wood (Bath/Closet), Light Fixtures (B/C), Racks, Poles , Nails, Screws, etc.<br>                                                                                       1\n",
       "  Borrower added on 07/11/12 > This loan will help to replace a roof that is badly needed on our single family home.<br><br>  Borrower added on 07/12/12 > This loan will replace a roof and subtract from the cost of new windows to improve the property value so that we may refinance down to a 15 year fixed rate home loan.<br>      1\n",
       "  Borrower added on 07/11/12 > This loan is to consolidate debt.  All my finances are in good order with no late payments on any accounts.  I own my home and am employed full time.<br>                                                                                                                                                   1\n",
       "  Borrower added on 03/18/14 > Consolidating debt into one account.<br>                                                                                                                                                                                                                                                                    1\n",
       "Name: X16, Length: 103869, dtype: int64"
      ]
     },
     "execution_count": 94,
     "metadata": {},
     "output_type": "execute_result"
    }
   ],
   "source": [
    "df['X16'].value_counts()"
   ]
  },
  {
   "cell_type": "markdown",
   "id": "f191aff2-3c10-4628-9811-4e355476fb60",
   "metadata": {},
   "source": [
    "#### Since there are so many unique values and values are input manually and since there are 70% null values, we can drop it"
   ]
  },
  {
   "cell_type": "code",
   "execution_count": 95,
   "id": "0dc5ae39-b328-4bde-94ef-60cc5c450e67",
   "metadata": {},
   "outputs": [],
   "source": [
    "df = df.drop(axis = 1, columns = ['X16'])\n",
    "df_testing = df_testing.drop(axis = 1, columns = ['X16'])"
   ]
  },
  {
   "cell_type": "markdown",
   "id": "197a6731-feee-4d17-b629-9ff09c6af26c",
   "metadata": {},
   "source": [
    "### X17 - Loan Category"
   ]
  },
  {
   "cell_type": "code",
   "execution_count": 96,
   "id": "4c705937-e89e-4a0a-9e6a-21d92819b6d3",
   "metadata": {},
   "outputs": [
    {
     "name": "stdout",
     "output_type": "stream",
     "text": [
      "Percentage of nulls = 0.0\n",
      "# Null values = 0\n",
      "Percentage of nulls = 0.0\n",
      "# Null values = 0\n"
     ]
    }
   ],
   "source": [
    "check_nulls(df['X17'])\n",
    "check_nulls(df_testing['X17'])"
   ]
  },
  {
   "cell_type": "code",
   "execution_count": 97,
   "id": "cfa4f1f9-5bd8-4fd3-9f25-bec1328bf87b",
   "metadata": {},
   "outputs": [
    {
     "data": {
      "text/plain": [
       "debt_consolidation    198226\n",
       "credit_card            75680\n",
       "home_improvement       19625\n",
       "other                  17154\n",
       "major_purchase          7312\n",
       "small_business          5359\n",
       "car                     4115\n",
       "medical                 3329\n",
       "moving                  2138\n",
       "wedding                 1934\n",
       "vacation                1848\n",
       "house                   1723\n",
       "educational              279\n",
       "renewable_energy         267\n",
       "Name: X17, dtype: int64"
      ]
     },
     "execution_count": 97,
     "metadata": {},
     "output_type": "execute_result"
    }
   ],
   "source": [
    "df['X17'].value_counts()"
   ]
  },
  {
   "cell_type": "code",
   "execution_count": 98,
   "id": "155859a2-94c2-4fc0-9a82-3a2d50a45888",
   "metadata": {},
   "outputs": [
    {
     "data": {
      "text/plain": [
       "debt_consolidation    49884\n",
       "credit_card           18660\n",
       "home_improvement       3920\n",
       "other                  3383\n",
       "major_purchase         1232\n",
       "small_business          668\n",
       "medical                 619\n",
       "car                     573\n",
       "moving                  393\n",
       "vacation                359\n",
       "house                   266\n",
       "renewable_energy         42\n",
       "wedding                   1\n",
       "Name: X17, dtype: int64"
      ]
     },
     "execution_count": 98,
     "metadata": {},
     "output_type": "execute_result"
    }
   ],
   "source": [
    "df_testing['X17'].value_counts()"
   ]
  },
  {
   "cell_type": "markdown",
   "id": "04970941-a3a9-4f60-ad2e-d2c22776a012",
   "metadata": {},
   "source": [
    "#### Since we have 13 categories, we can do target encoding (becuase one hot encoding will add many features)"
   ]
  },
  {
   "cell_type": "code",
   "execution_count": 99,
   "id": "ec2facd1-aaea-4c3c-b8b1-fcd92e4e0185",
   "metadata": {},
   "outputs": [],
   "source": [
    "mean_target = df.groupby('X17')['X1'].mean()"
   ]
  },
  {
   "cell_type": "code",
   "execution_count": 100,
   "id": "99f7d974-9191-4d4d-80a9-a11bfaa3ebe6",
   "metadata": {},
   "outputs": [],
   "source": [
    "# Replace the original categorical values with the mean target value\n",
    "df['X17_target_encoded'] = df['X17'].map(mean_target)\n",
    "\n",
    "# To prevent information leakage, using values from train dataset\n",
    "df_testing['X17_target_encoded'] = df_testing['X17'].map(mean_target)"
   ]
  },
  {
   "cell_type": "code",
   "execution_count": 101,
   "id": "f7e3c99f-2b91-4c50-a9ba-8a78b802b643",
   "metadata": {
    "tags": []
   },
   "outputs": [],
   "source": [
    "df = df.drop(axis = 1, columns = ['X17'])\n",
    "df_testing = df_testing.drop(axis = 1, columns = ['X17'])"
   ]
  },
  {
   "cell_type": "markdown",
   "id": "db3cbccd-0283-4d43-ac72-c8ae3124ec4f",
   "metadata": {},
   "source": [
    "### X18 - Loan Title"
   ]
  },
  {
   "cell_type": "code",
   "execution_count": 102,
   "id": "55904476-2f75-42f9-98e3-af96ff1fbce1",
   "metadata": {},
   "outputs": [
    {
     "name": "stdout",
     "output_type": "stream",
     "text": [
      "Percentage of nulls = 0.004719917165453746\n",
      "# Null values = 16\n",
      "Percentage of nulls = 0.0\n",
      "# Null values = 0\n"
     ]
    }
   ],
   "source": [
    "check_nulls(df['X18'])\n",
    "check_nulls(df_testing['X18'])"
   ]
  },
  {
   "cell_type": "code",
   "execution_count": 103,
   "id": "020e89df-d6bd-44c1-9d24-2760963a650c",
   "metadata": {},
   "outputs": [],
   "source": [
    "# Since there are only 16 null values, we can drop them\n",
    "df = df.dropna(axis = 0, subset = 'X18')"
   ]
  },
  {
   "cell_type": "code",
   "execution_count": 104,
   "id": "839e5bdd-5213-4e48-a0b6-35c0aab24fce",
   "metadata": {},
   "outputs": [],
   "source": [
    "df_testing = df_testing.dropna(axis = 0, subset = 'X18')"
   ]
  },
  {
   "cell_type": "code",
   "execution_count": 105,
   "id": "4fea0b1b-7b70-4e44-a6b9-84582fa8a3df",
   "metadata": {},
   "outputs": [
    {
     "data": {
      "text/plain": [
       "Debt consolidation         105698\n",
       "Credit card refinancing     40499\n",
       "Debt Consolidation          13275\n",
       "Home improvement             9888\n",
       "Other                        8188\n",
       "Consolidation                4504\n",
       "debt consolidation           4075\n",
       "Debt Consolidation Loan      3247\n",
       "Major purchase               3010\n",
       "Name: X18, dtype: int64"
      ]
     },
     "execution_count": 105,
     "metadata": {},
     "output_type": "execute_result"
    }
   ],
   "source": [
    "df['X18'].value_counts().head(9)"
   ]
  },
  {
   "cell_type": "markdown",
   "id": "0f46636d-8834-491e-a897-0deef6697a59",
   "metadata": {},
   "source": [
    "#### Since, loan title looks similar to loan category, we can drop it"
   ]
  },
  {
   "cell_type": "code",
   "execution_count": 106,
   "id": "81d0e6a6-8d60-4a06-96f4-4c6cf5fa7428",
   "metadata": {},
   "outputs": [],
   "source": [
    "df = df.drop(axis = 1, columns = ['X18'])\n",
    "df_testing = df_testing.drop(axis = 1, columns = ['X18'])"
   ]
  },
  {
   "cell_type": "markdown",
   "id": "b015af23-f6bf-45bf-aa9a-3d98c133f5c7",
   "metadata": {},
   "source": [
    "### X19 - Zip code"
   ]
  },
  {
   "cell_type": "code",
   "execution_count": 107,
   "id": "a29cd3ad-f0f0-406e-b176-f73f9ad86b08",
   "metadata": {},
   "outputs": [
    {
     "name": "stdout",
     "output_type": "stream",
     "text": [
      "Percentage of nulls = 0.0\n",
      "# Null values = 0\n",
      "Percentage of nulls = 0.0\n",
      "# Null values = 0\n"
     ]
    }
   ],
   "source": [
    "check_nulls(df['X19'])\n",
    "check_nulls(df_testing['X19'])"
   ]
  },
  {
   "cell_type": "code",
   "execution_count": 108,
   "id": "ef729363-34ed-43e1-be17-2f12db29ff69",
   "metadata": {
    "tags": []
   },
   "outputs": [
    {
     "data": {
      "text/plain": [
       "945xx    894\n",
       "750xx    852\n",
       "112xx    759\n",
       "300xx    747\n",
       "606xx    717\n",
       "        ... \n",
       "649xx      1\n",
       "399xx      1\n",
       "343xx      1\n",
       "595xx      1\n",
       "045xx      1\n",
       "Name: X19, Length: 844, dtype: int64"
      ]
     },
     "execution_count": 108,
     "metadata": {},
     "output_type": "execute_result"
    }
   ],
   "source": [
    "df_testing['X19'].value_counts()"
   ]
  },
  {
   "cell_type": "markdown",
   "id": "3575fd73-79d9-4cc7-84a1-cdb2cf937363",
   "metadata": {},
   "source": [
    "#### Since we have 844 categories, we can do target encoding (becuase one hot encoding will add many features)"
   ]
  },
  {
   "cell_type": "code",
   "execution_count": 109,
   "id": "13c523a3-fd7c-4bb5-91cb-a3f3fa47dcee",
   "metadata": {},
   "outputs": [],
   "source": [
    "mean_target = df.groupby('X19')['X1'].mean()"
   ]
  },
  {
   "cell_type": "code",
   "execution_count": 110,
   "id": "cf70e3a7-adc5-4a2b-b8e1-d3a44fe8c34c",
   "metadata": {},
   "outputs": [],
   "source": [
    "# Replace the original categorical values with the mean target value\n",
    "df['X19_target_encoded'] = df['X19'].map(mean_target)\n",
    "\n",
    "# To prevent information leakage, using values from train dataset\n",
    "df_testing['X19_target_encoded'] = df_testing['X19'].map(mean_target).fillna(df['X19_target_encoded'].mean())"
   ]
  },
  {
   "cell_type": "code",
   "execution_count": 111,
   "id": "9b55382d-4230-420b-a13a-82750eff7455",
   "metadata": {
    "tags": []
   },
   "outputs": [],
   "source": [
    "df = df.drop(axis = 1, columns = ['X19'])\n",
    "df_testing = df_testing.drop(axis = 1, columns = ['X19'])"
   ]
  },
  {
   "cell_type": "markdown",
   "id": "5f56538d-c1d1-48df-a007-3bca34d45e8a",
   "metadata": {},
   "source": [
    "## X20 - State of borrower"
   ]
  },
  {
   "cell_type": "code",
   "execution_count": 112,
   "id": "e618a2a5-08ed-4bf9-9835-98bb4e8362d0",
   "metadata": {},
   "outputs": [
    {
     "name": "stdout",
     "output_type": "stream",
     "text": [
      "Percentage of nulls = 0.0\n",
      "# Null values = 0\n",
      "Percentage of nulls = 0.0\n",
      "# Null values = 0\n"
     ]
    }
   ],
   "source": [
    "check_nulls(df['X20'])\n",
    "check_nulls(df_testing['X20'])"
   ]
  },
  {
   "cell_type": "code",
   "execution_count": 113,
   "id": "a4d31b55-8c0a-4b51-be7b-efcc7b5c326f",
   "metadata": {
    "scrolled": true,
    "tags": []
   },
   "outputs": [
    {
     "data": {
      "text/plain": [
       "CA    52833\n",
       "NY    29224\n",
       "TX    26492\n",
       "FL    22754\n",
       "IL    13483\n",
       "NJ    13188\n",
       "PA    11877\n",
       "OH    11038\n",
       "GA    10851\n",
       "VA    10338\n",
       "NC     9303\n",
       "MI     8350\n",
       "MA     8038\n",
       "MD     8016\n",
       "AZ     7746\n",
       "WA     7706\n",
       "CO     7118\n",
       "MN     5864\n",
       "MO     5397\n",
       "CT     5242\n",
       "NV     4753\n",
       "IN     4608\n",
       "OR     4411\n",
       "WI     4245\n",
       "TN     4215\n",
       "AL     4188\n",
       "LA     4017\n",
       "SC     3979\n",
       "KY     3172\n",
       "KS     3096\n",
       "OK     3013\n",
       "AR     2532\n",
       "UT     2531\n",
       "NM     1848\n",
       "HI     1798\n",
       "WV     1738\n",
       "NH     1648\n",
       "RI     1486\n",
       "DC     1080\n",
       "MT      995\n",
       "AK      947\n",
       "DE      896\n",
       "WY      853\n",
       "SD      730\n",
       "MS      707\n",
       "VT      604\n",
       "ID        8\n",
       "IA        7\n",
       "NE        6\n",
       "ME        4\n",
       "Name: X20, dtype: int64"
      ]
     },
     "execution_count": 113,
     "metadata": {},
     "output_type": "execute_result"
    }
   ],
   "source": [
    "df['X20'].value_counts()"
   ]
  },
  {
   "cell_type": "markdown",
   "id": "b25dc064-59e3-48ef-9aa1-66af9b6f971f",
   "metadata": {},
   "source": [
    "#### Since we have 50 categories, we can do target encoding (becuase one hot encoding will add many features)"
   ]
  },
  {
   "cell_type": "code",
   "execution_count": 114,
   "id": "ec35d407-1d30-463f-b81d-68c2f4e6bcdf",
   "metadata": {},
   "outputs": [],
   "source": [
    "mean_target = df.groupby('X20')['X1'].mean()"
   ]
  },
  {
   "cell_type": "code",
   "execution_count": 115,
   "id": "244acfbe-3c44-43d6-93c1-45a0ab9cce6e",
   "metadata": {},
   "outputs": [],
   "source": [
    "# Replace the original categorical values with the mean target value\n",
    "df['X20_target_encoded'] = df['X20'].map(mean_target)\n",
    "\n",
    "# To prevent information leakage, using values from train dataset\n",
    "df_testing['X20_target_encoded'] = df_testing['X20'].map(mean_target)"
   ]
  },
  {
   "cell_type": "code",
   "execution_count": 116,
   "id": "02d78b9d-2029-4c13-9457-5fb7c8cde556",
   "metadata": {
    "tags": []
   },
   "outputs": [],
   "source": [
    "df = df.drop(axis = 1, columns = ['X20'])\n",
    "df_testing = df_testing.drop(axis = 1, columns = ['X20'])"
   ]
  },
  {
   "cell_type": "markdown",
   "id": "2969802a-6c74-4e0a-8f57-001293ab1c62",
   "metadata": {},
   "source": [
    "### X21 - A ratio calculated using the borrower‰Ûªs total monthly debt payments on the total debt obligations, excluding mortgage and the requested loan, divided by the borrower‰Ûªs self-reported monthly income."
   ]
  },
  {
   "cell_type": "code",
   "execution_count": 117,
   "id": "5b4c40b4-daf3-451a-a230-091eb721a148",
   "metadata": {},
   "outputs": [
    {
     "name": "stdout",
     "output_type": "stream",
     "text": [
      "Percentage of nulls = 0.0\n",
      "# Null values = 0\n",
      "Percentage of nulls = 0.0\n",
      "# Null values = 0\n"
     ]
    }
   ],
   "source": [
    "check_nulls(df['X21'])\n",
    "check_nulls(df_testing['X21'])"
   ]
  },
  {
   "cell_type": "code",
   "execution_count": 118,
   "id": "5d617ba7-76a5-4238-a763-cdf75d8f4a1f",
   "metadata": {},
   "outputs": [
    {
     "data": {
      "text/plain": [
       "<AxesSubplot:>"
      ]
     },
     "execution_count": 118,
     "metadata": {},
     "output_type": "execute_result"
    },
    {
     "data": {
      "image/png": "[encoded data removed]",
      "text/plain": [
       "<Figure size 1080x720 with 1 Axes>"
      ]
     },
     "metadata": {},
     "output_type": "display_data"
    }
   ],
   "source": [
    "df['X21'].value_counts().sort_index().plot()"
   ]
  },
  {
   "cell_type": "markdown",
   "id": "0e0e2a97-7a38-486e-9dc3-312793320177",
   "metadata": {},
   "source": [
    "### X22 - The number of 30+ days past-due incidences of delinquency in the borrower's credit file for the past 2 years"
   ]
  },
  {
   "cell_type": "code",
   "execution_count": 119,
   "id": "e7d2f8d0-4bcd-4409-9229-98657e66ce77",
   "metadata": {},
   "outputs": [
    {
     "name": "stdout",
     "output_type": "stream",
     "text": [
      "Percentage of nulls = 0.0\n",
      "# Null values = 0\n",
      "Percentage of nulls = 0.0\n",
      "# Null values = 0\n"
     ]
    }
   ],
   "source": [
    "check_nulls(df['X22'])\n",
    "check_nulls(df_testing['X22'])"
   ]
  },
  {
   "cell_type": "code",
   "execution_count": 120,
   "id": "962e3e1b-e19f-4d14-b77d-c53cba31c446",
   "metadata": {},
   "outputs": [
    {
     "data": {
      "text/plain": [
       "<AxesSubplot:>"
      ]
     },
     "execution_count": 120,
     "metadata": {},
     "output_type": "execute_result"
    },
    {
     "data": {
      "image/png": "[encoded data removed]",
      "text/plain": [
       "<Figure size 1080x720 with 1 Axes>"
      ]
     },
     "metadata": {},
     "output_type": "display_data"
    }
   ],
   "source": [
    "df['X22'].value_counts().sort_index().plot()"
   ]
  },
  {
   "cell_type": "markdown",
   "id": "01cf6479-80e0-4446-a941-478d6ef50aaf",
   "metadata": {},
   "source": [
    "### X23 - Date the borrower's earliest reported credit line was opened"
   ]
  },
  {
   "cell_type": "code",
   "execution_count": 121,
   "id": "c4fdcd56-d4b4-431f-96b9-20b7642bc60d",
   "metadata": {},
   "outputs": [
    {
     "name": "stdout",
     "output_type": "stream",
     "text": [
      "Percentage of nulls = 0.0\n",
      "# Null values = 0\n",
      "Percentage of nulls = 0.0\n",
      "# Null values = 0\n"
     ]
    }
   ],
   "source": [
    "check_nulls(df['X23'])\n",
    "check_nulls(df_testing['X23'])"
   ]
  },
  {
   "cell_type": "code",
   "execution_count": 122,
   "id": "be4271c4-9ec2-4d79-a8cb-e9bf595bfa83",
   "metadata": {},
   "outputs": [],
   "source": [
    "df['X23_year'] = pd.to_datetime(df['X23'], format='%b-%y').dt.year"
   ]
  },
  {
   "cell_type": "code",
   "execution_count": 123,
   "id": "94a42327-1ceb-4263-988b-9eddc8af687d",
   "metadata": {},
   "outputs": [],
   "source": [
    "df_testing['X23_year'] = pd.to_datetime(df_testing['X23'], infer_datetime_format = True, errors = 'coerce').dt.year"
   ]
  },
  {
   "cell_type": "code",
   "execution_count": 124,
   "id": "6c613f7e-f67e-49a9-adc0-755b3b289ece",
   "metadata": {},
   "outputs": [
    {
     "data": {
      "text/plain": [
       "39359"
      ]
     },
     "execution_count": 124,
     "metadata": {},
     "output_type": "execute_result"
    }
   ],
   "source": [
    "df_testing['X23_year'].isnull().sum()"
   ]
  },
  {
   "cell_type": "code",
   "execution_count": 125,
   "id": "b0eb946f-d833-4d63-952f-6069942c180e",
   "metadata": {},
   "outputs": [],
   "source": [
    "df_testing['X23_year'] = df_testing['X23_year'].fillna(df['X23_year'].mode()[0])"
   ]
  },
  {
   "cell_type": "code",
   "execution_count": 126,
   "id": "96b6a732-5dd2-4d6e-a2aa-b49ae76647b6",
   "metadata": {},
   "outputs": [
    {
     "data": {
      "text/plain": [
       "0"
      ]
     },
     "execution_count": 126,
     "metadata": {},
     "output_type": "execute_result"
    }
   ],
   "source": [
    "df_testing['X23_year'].isnull().sum()"
   ]
  },
  {
   "cell_type": "code",
   "execution_count": 127,
   "id": "57a96326-aaea-4c51-9ce2-53a504eccc8e",
   "metadata": {},
   "outputs": [],
   "source": [
    "df = df.drop(axis = 1, columns = ['X23'])\n",
    "df_testing = df_testing.drop(axis = 1, columns = ['X23'])"
   ]
  },
  {
   "cell_type": "markdown",
   "id": "22bbcbae-817f-4387-bf2a-f97632dc60c7",
   "metadata": {},
   "source": [
    "### X24 - Number of inquiries by creditors during the past 6 months."
   ]
  },
  {
   "cell_type": "code",
   "execution_count": 128,
   "id": "cfbc1e29-3305-4ffa-9301-94c3fc372180",
   "metadata": {},
   "outputs": [
    {
     "name": "stdout",
     "output_type": "stream",
     "text": [
      "Percentage of nulls = 0.0\n",
      "# Null values = 0\n",
      "Percentage of nulls = 0.0\n",
      "# Null values = 0\n"
     ]
    }
   ],
   "source": [
    "check_nulls(df['X24'])\n",
    "check_nulls(df_testing['X24'])"
   ]
  },
  {
   "cell_type": "code",
   "execution_count": 129,
   "id": "07a3adcc-34d2-417c-bc43-647ed57d8c7c",
   "metadata": {},
   "outputs": [
    {
     "data": {
      "text/plain": [
       "<AxesSubplot:>"
      ]
     },
     "execution_count": 129,
     "metadata": {},
     "output_type": "execute_result"
    },
    {
     "data": {
      "image/png": "[encoded data removed]",
      "text/plain": [
       "<Figure size 1080x720 with 1 Axes>"
      ]
     },
     "metadata": {},
     "output_type": "display_data"
    }
   ],
   "source": [
    "df['X24'].value_counts().sort_index().plot()"
   ]
  },
  {
   "cell_type": "markdown",
   "id": "3fc36eff-f681-4600-b84c-fbde82ecd2bd",
   "metadata": {},
   "source": [
    "### X25\tNumber of months since the borrower's last delinquency."
   ]
  },
  {
   "cell_type": "code",
   "execution_count": 130,
   "id": "044b4cf7-f230-47d0-9d09-6806e71ee1f0",
   "metadata": {},
   "outputs": [
    {
     "name": "stdout",
     "output_type": "stream",
     "text": [
      "Percentage of nulls = 0.0\n",
      "# Null values = 0\n",
      "Percentage of nulls = 0.0\n",
      "# Null values = 0\n"
     ]
    }
   ],
   "source": [
    "check_nulls(df['X25'])\n",
    "check_nulls(df_testing['X25'])"
   ]
  },
  {
   "cell_type": "markdown",
   "id": "e07584d0-040f-45c7-9fd7-0481e20d4838",
   "metadata": {},
   "source": [
    "### X26\tNumber of months since the last public record."
   ]
  },
  {
   "cell_type": "code",
   "execution_count": 131,
   "id": "dac0fcb3-a1df-4a6e-b9ea-c7ccac2369d3",
   "metadata": {},
   "outputs": [
    {
     "name": "stdout",
     "output_type": "stream",
     "text": [
      "Percentage of nulls = 87.19691538854127\n",
      "# Null values = 295574\n",
      "Percentage of nulls = 82.70125\n",
      "# Null values = 66161\n"
     ]
    }
   ],
   "source": [
    "check_nulls(df['X26'])\n",
    "check_nulls(df_testing['X26'])"
   ]
  },
  {
   "cell_type": "markdown",
   "id": "53bdffdc-cec9-44d6-8a4c-c3f7370805c4",
   "metadata": {},
   "source": [
    "### Since there are ~85% nulls, we'll have to drop it"
   ]
  },
  {
   "cell_type": "code",
   "execution_count": 132,
   "id": "72207e34-50a3-4c2b-9e10-8d153666a2ab",
   "metadata": {},
   "outputs": [],
   "source": [
    "df = df.drop(axis = 1, columns = ['X26'])\n",
    "df_testing = df_testing.drop(axis = 1, columns = ['X26'])"
   ]
  },
  {
   "cell_type": "markdown",
   "id": "7744729f-a0e2-4d23-9116-4781020c5bf6",
   "metadata": {},
   "source": [
    "### X27\tNumber of open credit lines in the borrower's credit file."
   ]
  },
  {
   "cell_type": "code",
   "execution_count": 133,
   "id": "155752f2-bcce-423e-ac65-c3f14b1f9105",
   "metadata": {},
   "outputs": [
    {
     "name": "stdout",
     "output_type": "stream",
     "text": [
      "Percentage of nulls = 0.0\n",
      "# Null values = 0\n",
      "Percentage of nulls = 0.0\n",
      "# Null values = 0\n"
     ]
    }
   ],
   "source": [
    "check_nulls(df['X27'])\n",
    "check_nulls(df_testing['X27'])"
   ]
  },
  {
   "cell_type": "code",
   "execution_count": 134,
   "id": "be8b071e-2132-4972-8d55-2e540870d565",
   "metadata": {},
   "outputs": [
    {
     "data": {
      "text/plain": [
       "<AxesSubplot:>"
      ]
     },
     "execution_count": 134,
     "metadata": {},
     "output_type": "execute_result"
    },
    {
     "data": {
      "image/png": "[encoded data removed]",
      "text/plain": [
       "<Figure size 1080x720 with 1 Axes>"
      ]
     },
     "metadata": {},
     "output_type": "display_data"
    }
   ],
   "source": [
    "df['X27'].value_counts().sort_index().plot()"
   ]
  },
  {
   "cell_type": "markdown",
   "id": "fda01f07-99a3-492d-9d4f-40f1e80f7d32",
   "metadata": {},
   "source": [
    "### X28\tNumber of derogatory public records"
   ]
  },
  {
   "cell_type": "code",
   "execution_count": 135,
   "id": "2bf4911c-d38c-47ca-ba80-75c396848572",
   "metadata": {},
   "outputs": [
    {
     "name": "stdout",
     "output_type": "stream",
     "text": [
      "Percentage of nulls = 0.0\n",
      "# Null values = 0\n",
      "Percentage of nulls = 0.0\n",
      "# Null values = 0\n"
     ]
    }
   ],
   "source": [
    "check_nulls(df['X28'])\n",
    "check_nulls(df_testing['X28'])"
   ]
  },
  {
   "cell_type": "code",
   "execution_count": 136,
   "id": "282f721f-a364-4916-9666-acb99c41d6ae",
   "metadata": {},
   "outputs": [
    {
     "data": {
      "text/plain": [
       "0.0     296214\n",
       "1.0      37292\n",
       "2.0       3668\n",
       "3.0       1076\n",
       "4.0        346\n",
       "5.0        186\n",
       "6.0         90\n",
       "7.0         47\n",
       "8.0         19\n",
       "9.0         11\n",
       "10.0        10\n",
       "11.0         3\n",
       "13.0         2\n",
       "49.0         1\n",
       "54.0         1\n",
       "17.0         1\n",
       "34.0         1\n",
       "21.0         1\n",
       "63.0         1\n",
       "40.0         1\n",
       "18.0         1\n",
       "14.0         1\n",
       "Name: X28, dtype: int64"
      ]
     },
     "execution_count": 136,
     "metadata": {},
     "output_type": "execute_result"
    }
   ],
   "source": [
    "df['X28'].value_counts()"
   ]
  },
  {
   "cell_type": "markdown",
   "id": "2ba3f36d-6751-4420-a1b2-810b8fea2e9a",
   "metadata": {},
   "source": [
    "### X29\tTotal credit revolving balance"
   ]
  },
  {
   "cell_type": "code",
   "execution_count": 137,
   "id": "3c6fa424-a5ea-4c1d-bce5-45b82d01016a",
   "metadata": {},
   "outputs": [
    {
     "name": "stdout",
     "output_type": "stream",
     "text": [
      "Percentage of nulls = 0.0\n",
      "# Null values = 0\n",
      "Percentage of nulls = 0.0\n",
      "# Null values = 0\n"
     ]
    }
   ],
   "source": [
    "check_nulls(df['X29'])\n",
    "check_nulls(df_testing['X29'])"
   ]
  },
  {
   "cell_type": "code",
   "execution_count": 138,
   "id": "c922998e-4fc6-43f8-857a-1004b736870d",
   "metadata": {},
   "outputs": [
    {
     "data": {
      "text/plain": [
       "<AxesSubplot:>"
      ]
     },
     "execution_count": 138,
     "metadata": {},
     "output_type": "execute_result"
    },
    {
     "data": {
      "image/png": "[encoded data removed]",
      "text/plain": [
       "<Figure size 1080x720 with 1 Axes>"
      ]
     },
     "metadata": {},
     "output_type": "display_data"
    }
   ],
   "source": [
    "df['X29'].plot()"
   ]
  },
  {
   "cell_type": "markdown",
   "id": "4c472fd3-6770-481b-b019-c8c8f421b0e2",
   "metadata": {},
   "source": [
    "### X30\tRevolving line utilization rate, or the amount of credit the borrower is using relative to all available revolving credit."
   ]
  },
  {
   "cell_type": "code",
   "execution_count": 139,
   "id": "1c0f32a3-a666-4080-9fa5-39f1347d0510",
   "metadata": {},
   "outputs": [
    {
     "name": "stdout",
     "output_type": "stream",
     "text": [
      "Percentage of nulls = 0.0\n",
      "# Null values = 0\n",
      "Percentage of nulls = 0.0\n",
      "# Null values = 0\n"
     ]
    }
   ],
   "source": [
    "check_nulls(df['X29'])\n",
    "check_nulls(df_testing['X29'])"
   ]
  },
  {
   "cell_type": "code",
   "execution_count": 140,
   "id": "dd42404d-3f19-47ff-bea4-5230b84f9912",
   "metadata": {},
   "outputs": [
    {
     "data": {
      "text/plain": [
       "<AxesSubplot:>"
      ]
     },
     "execution_count": 140,
     "metadata": {},
     "output_type": "execute_result"
    },
    {
     "data": {
      "image/png": "[encoded data removed]",
      "text/plain": [
       "<Figure size 1080x720 with 1 Axes>"
      ]
     },
     "metadata": {},
     "output_type": "display_data"
    }
   ],
   "source": [
    "df['X30'].plot()"
   ]
  },
  {
   "cell_type": "code",
   "execution_count": 141,
   "id": "386447f6-e469-4a2e-b597-a0177bc97f17",
   "metadata": {},
   "outputs": [],
   "source": [
    "# Since there are only 224 null values, we can drop them\n",
    "df = df.dropna(axis = 0, subset = 'X30')"
   ]
  },
  {
   "cell_type": "markdown",
   "id": "cc14b686-e3c8-4602-9c75-8b9a9d4688bf",
   "metadata": {},
   "source": [
    "## Since X29 and X30 are related to credit utilization rate, we can create a new column called utilitzation rate and drop X29, X30"
   ]
  },
  {
   "cell_type": "code",
   "execution_count": 142,
   "id": "aa65357a-f2f8-4ced-8401-59daf35bc5b4",
   "metadata": {},
   "outputs": [],
   "source": [
    "df['utilization_rate'] = df['X30']/df['X29']\n",
    "df_testing['utilization_rate'] = df_testing['X30']/df_testing['X29']\n",
    "\n",
    "df_testing['utilization_rate'] = df_testing['utilization_rate'].fillna(df['utilization_rate'].median())\n",
    "df['utilization_rate'] = df['utilization_rate'].fillna(df['utilization_rate'].median())\n",
    "df['utilization_rate'].replace([np.inf, -np.inf], 0, inplace=True)\n",
    "df_testing['utilization_rate'].replace([np.inf, -np.inf], 0, inplace=True)"
   ]
  },
  {
   "cell_type": "code",
   "execution_count": 143,
   "id": "55e83d9e-5059-4d2f-8c0f-1f8a7b07ef38",
   "metadata": {},
   "outputs": [
    {
     "data": {
      "text/plain": [
       "0"
      ]
     },
     "execution_count": 143,
     "metadata": {},
     "output_type": "execute_result"
    }
   ],
   "source": [
    "df['utilization_rate'].isnull().sum()"
   ]
  },
  {
   "cell_type": "code",
   "execution_count": 144,
   "id": "589e64c0-a512-4477-b633-2a1d00df6d49",
   "metadata": {},
   "outputs": [],
   "source": [
    "df = df.drop(axis = 1, columns = ['X29', 'X30'])\n",
    "df_testing = df_testing.drop(axis = 1, columns = ['X29', 'X30'])"
   ]
  },
  {
   "cell_type": "code",
   "execution_count": 145,
   "id": "6fcc6684-e2bd-42d0-a29a-53ca26545121",
   "metadata": {},
   "outputs": [
    {
     "data": {
      "text/plain": [
       "<AxesSubplot:>"
      ]
     },
     "execution_count": 145,
     "metadata": {},
     "output_type": "execute_result"
    },
    {
     "data": {
      "image/png": "[encoded data removed]",
      "text/plain": [
       "<Figure size 1080x720 with 1 Axes>"
      ]
     },
     "metadata": {},
     "output_type": "display_data"
    }
   ],
   "source": [
    "df['utilization_rate'].plot()"
   ]
  },
  {
   "cell_type": "markdown",
   "id": "04a49436-858b-4e1d-a678-5c8a5e987f09",
   "metadata": {},
   "source": [
    "### X31\tThe total number of credit lines currently in the borrower's credit file."
   ]
  },
  {
   "cell_type": "code",
   "execution_count": 146,
   "id": "747b46c4-f9cf-435a-aba0-35498328676c",
   "metadata": {},
   "outputs": [
    {
     "name": "stdout",
     "output_type": "stream",
     "text": [
      "Percentage of nulls = 0.0\n",
      "# Null values = 0\n",
      "Percentage of nulls = 0.0\n",
      "# Null values = 0\n"
     ]
    }
   ],
   "source": [
    "check_nulls(df['X31'])\n",
    "check_nulls(df_testing['X31'])"
   ]
  },
  {
   "cell_type": "code",
   "execution_count": 147,
   "id": "b2fc4189-86fb-40c9-b1c7-5c21d8a2e5ca",
   "metadata": {},
   "outputs": [
    {
     "data": {
      "text/plain": [
       "<AxesSubplot:>"
      ]
     },
     "execution_count": 147,
     "metadata": {},
     "output_type": "execute_result"
    },
    {
     "data": {
      "image/png": "[encoded data removed]",
      "text/plain": [
       "<Figure size 1080x720 with 1 Axes>"
      ]
     },
     "metadata": {},
     "output_type": "display_data"
    }
   ],
   "source": [
    "df['X31'].value_counts().sort_index().plot()"
   ]
  },
  {
   "cell_type": "markdown",
   "id": "06bf3760-36c6-4e02-be24-6f9237ac9489",
   "metadata": {},
   "source": [
    "### X32\tThe initial listing status of the loan. Possible values are ‰ÛÒ W, F"
   ]
  },
  {
   "cell_type": "code",
   "execution_count": 148,
   "id": "40949be6-3f44-4ba3-ae68-f75e466cf77b",
   "metadata": {},
   "outputs": [
    {
     "name": "stdout",
     "output_type": "stream",
     "text": [
      "Percentage of nulls = 0.0\n",
      "# Null values = 0\n",
      "Percentage of nulls = 0.0\n",
      "# Null values = 0\n"
     ]
    }
   ],
   "source": [
    "check_nulls(df['X32'])\n",
    "check_nulls(df_testing['X32'])"
   ]
  },
  {
   "cell_type": "code",
   "execution_count": 149,
   "id": "580d5372-5eb8-4d76-a437-2cf13e362487",
   "metadata": {},
   "outputs": [
    {
     "data": {
      "text/plain": [
       "f    232424\n",
       "w    106325\n",
       "Name: X32, dtype: int64"
      ]
     },
     "execution_count": 149,
     "metadata": {},
     "output_type": "execute_result"
    }
   ],
   "source": [
    "df['X32'].value_counts()"
   ]
  },
  {
   "cell_type": "code",
   "execution_count": 150,
   "id": "66142f22-4428-4eff-930d-8ef36813c30b",
   "metadata": {},
   "outputs": [
    {
     "data": {
      "text/plain": [
       "f    40440\n",
       "w    39560\n",
       "Name: X32, dtype: int64"
      ]
     },
     "execution_count": 150,
     "metadata": {},
     "output_type": "execute_result"
    }
   ],
   "source": [
    "df_testing['X32'].value_counts()"
   ]
  },
  {
   "cell_type": "code",
   "execution_count": 151,
   "id": "625c9b3e-af44-415a-a7d3-687077aa2eac",
   "metadata": {},
   "outputs": [],
   "source": [
    "df['X32'] = df['X32'].apply(lambda flag: 0 if flag.strip() == 'f' else 1)\n",
    "df_testing['X32'] = df_testing['X32'].apply(lambda flag: 0 if flag.strip() == 'f' else 1)"
   ]
  },
  {
   "cell_type": "code",
   "execution_count": 152,
   "id": "06386d07-a11d-419a-bf8b-f4327cb7bc6c",
   "metadata": {},
   "outputs": [
    {
     "data": {
      "text/plain": [
       "0    232424\n",
       "1    106325\n",
       "Name: X32, dtype: int64"
      ]
     },
     "execution_count": 152,
     "metadata": {},
     "output_type": "execute_result"
    }
   ],
   "source": [
    "df['X32'].value_counts()"
   ]
  },
  {
   "cell_type": "markdown",
   "id": "18bc288d-403b-4a1e-bb96-b24faa74d336",
   "metadata": {},
   "source": [
    "# Modelling"
   ]
  },
  {
   "cell_type": "code",
   "execution_count": 153,
   "id": "0a2514a7-e395-4d97-98dc-1d988dc760c1",
   "metadata": {},
   "outputs": [
    {
     "name": "stdout",
     "output_type": "stream",
     "text": [
      "<class 'pandas.core.frame.DataFrame'>\n",
      "Int64Index: 338749 entries, 0 to 399999\n",
      "Data columns (total 25 columns):\n",
      " #   Column              Non-Null Count   Dtype  \n",
      "---  ------              --------------   -----  \n",
      " 0   X1                  338749 non-null  float64\n",
      " 1   X5                  338749 non-null  float64\n",
      " 2   X7                  338749 non-null  int64  \n",
      " 3   X8                  338749 non-null  int64  \n",
      " 4   X9                  338749 non-null  int32  \n",
      " 5   X11                 338749 non-null  int32  \n",
      " 6   X12                 338749 non-null  int64  \n",
      " 7   X13                 338749 non-null  float64\n",
      " 8   X14                 338749 non-null  int64  \n",
      " 9   X21                 338749 non-null  float64\n",
      " 10  X22                 338749 non-null  float64\n",
      " 11  X24                 338749 non-null  float64\n",
      " 12  X25                 338749 non-null  float64\n",
      " 13  X27                 338749 non-null  float64\n",
      " 14  X28                 338749 non-null  float64\n",
      " 15  X31                 338749 non-null  float64\n",
      " 16  X32                 338749 non-null  int64  \n",
      " 17  X10_target_encoded  338749 non-null  float64\n",
      " 18  X15_month           338749 non-null  int64  \n",
      " 19  X15_year            338749 non-null  int64  \n",
      " 20  X17_target_encoded  338749 non-null  float64\n",
      " 21  X19_target_encoded  338749 non-null  float64\n",
      " 22  X20_target_encoded  338749 non-null  float64\n",
      " 23  X23_year            338749 non-null  int64  \n",
      " 24  utilization_rate    338749 non-null  float64\n",
      "dtypes: float64(15), int32(2), int64(8)\n",
      "memory usage: 64.6 MB\n"
     ]
    }
   ],
   "source": [
    "df.info()"
   ]
  },
  {
   "cell_type": "code",
   "execution_count": 154,
   "id": "59527c56-5a16-4f04-966c-ee3322951983",
   "metadata": {},
   "outputs": [
    {
     "data": {
      "text/plain": [
       "0"
      ]
     },
     "execution_count": 154,
     "metadata": {},
     "output_type": "execute_result"
    }
   ],
   "source": [
    "np.isinf(df).values.sum()"
   ]
  },
  {
   "cell_type": "code",
   "execution_count": 155,
   "id": "f4534934-9675-40ca-9f2f-fed7cd23c93c",
   "metadata": {},
   "outputs": [
    {
     "name": "stdout",
     "output_type": "stream",
     "text": [
      "<class 'pandas.core.frame.DataFrame'>\n",
      "RangeIndex: 80000 entries, 0 to 79999\n",
      "Data columns (total 25 columns):\n",
      " #   Column              Non-Null Count  Dtype  \n",
      "---  ------              --------------  -----  \n",
      " 0   X1                  0 non-null      float64\n",
      " 1   X5                  80000 non-null  float64\n",
      " 2   X7                  80000 non-null  int64  \n",
      " 3   X8                  80000 non-null  int64  \n",
      " 4   X9                  80000 non-null  int32  \n",
      " 5   X11                 80000 non-null  int32  \n",
      " 6   X12                 80000 non-null  int64  \n",
      " 7   X13                 80000 non-null  float64\n",
      " 8   X14                 80000 non-null  int64  \n",
      " 9   X21                 80000 non-null  float64\n",
      " 10  X22                 80000 non-null  int64  \n",
      " 11  X24                 80000 non-null  int64  \n",
      " 12  X25                 80000 non-null  float64\n",
      " 13  X27                 80000 non-null  int64  \n",
      " 14  X28                 80000 non-null  int64  \n",
      " 15  X31                 80000 non-null  int64  \n",
      " 16  X32                 80000 non-null  int64  \n",
      " 17  X10_target_encoded  80000 non-null  float64\n",
      " 18  X15_month           80000 non-null  int64  \n",
      " 19  X15_year            80000 non-null  int64  \n",
      " 20  X17_target_encoded  80000 non-null  float64\n",
      " 21  X19_target_encoded  80000 non-null  float64\n",
      " 22  X20_target_encoded  80000 non-null  float64\n",
      " 23  X23_year            80000 non-null  float64\n",
      " 24  utilization_rate    80000 non-null  float64\n",
      "dtypes: float64(11), int32(2), int64(12)\n",
      "memory usage: 14.6 MB\n"
     ]
    }
   ],
   "source": [
    "df_testing.info()"
   ]
  },
  {
   "cell_type": "code",
   "execution_count": 156,
   "id": "19c71fdc-4f4a-45e8-a678-398e37ec40e6",
   "metadata": {},
   "outputs": [
    {
     "data": {
      "text/plain": [
       "0"
      ]
     },
     "execution_count": 156,
     "metadata": {},
     "output_type": "execute_result"
    }
   ],
   "source": [
    "np.isinf(df_testing).values.sum()"
   ]
  },
  {
   "cell_type": "code",
   "execution_count": 157,
   "id": "3bc58457-d528-4867-b919-c651dfe37bb4",
   "metadata": {},
   "outputs": [],
   "source": [
    "df_final = df.copy()"
   ]
  },
  {
   "cell_type": "code",
   "execution_count": 158,
   "id": "fd804ecb-f48c-4d3c-9791-7187c91a6504",
   "metadata": {},
   "outputs": [],
   "source": [
    "from sklearn.model_selection import train_test_split,cross_val_score,RandomizedSearchCV,GridSearchCV\n",
    "\n",
    "from xgboost import XGBRegressor\n",
    "from sklearn.linear_model import LinearRegression\n",
    "from sklearn.tree import DecisionTreeRegressor\n",
    "from sklearn.ensemble import RandomForestRegressor\n",
    "from sklearn.ensemble import AdaBoostRegressor\n",
    "from sklearn.ensemble import GradientBoostingRegressor\n",
    "from sklearn.linear_model import ElasticNet\n",
    "from lightgbm import LGBMRegressor\n",
    "\n",
    "from sklearn.metrics import accuracy_score,classification_report,r2_score,mean_squared_error,mean_absolute_error"
   ]
  },
  {
   "cell_type": "code",
   "execution_count": 159,
   "id": "274f6581-7d1f-4251-8f5f-ee045cc1066e",
   "metadata": {},
   "outputs": [],
   "source": [
    "y = df_final.pop('X1')\n",
    "X = df_final\n",
    "\n",
    "X_train, X_test, y_train, y_test = train_test_split(X, y, test_size=0.2, random_state=42)"
   ]
  },
  {
   "cell_type": "code",
   "execution_count": 160,
   "id": "57a77562-1941-48ab-8afb-f97b8c7d01e3",
   "metadata": {},
   "outputs": [],
   "source": [
    "import warnings\n",
    "warnings.filterwarnings('ignore')\n",
    "\n",
    "from sklearn import metrics\n",
    "\n",
    "data = []\n",
    "\n",
    "def model(model, name):\n",
    "    \n",
    "    model.fit(X_train,y_train)\n",
    "    y_pred = model.predict(X_test)\n",
    "    \n",
    "    score = round(r2_score(y_test, y_pred), 4)\n",
    "    print(f'R2 score {score}')\n",
    "    \n",
    "    cv_score = round(cross_val_score(model, X_train, y_train, scoring = 'r2', cv = 5).mean(), 4)\n",
    "    print(f'CrossValidation score {cv_score}')\n",
    "    \n",
    "    mse = round(mean_squared_error(y_test, y_pred), 3)\n",
    "    print(f'MSE: {mse}')\n",
    "\n",
    "    data.append([name, score, cv_score, mse])"
   ]
  },
  {
   "cell_type": "code",
   "execution_count": 161,
   "id": "fbb8439c-c5aa-4eaa-84cf-855f17280e87",
   "metadata": {},
   "outputs": [
    {
     "name": "stdout",
     "output_type": "stream",
     "text": [
      "R2 score 0.9113\n",
      "CrossValidation score 0.9101\n",
      "MSE: 1.684\n",
      "CPU times: total: 12min 8s\n",
      "Wall time: 41.4 s\n"
     ]
    }
   ],
   "source": [
    "%%time\n",
    "xgb = XGBRegressor(n_jobs = -1)\n",
    "model(xgb, 'XGBoost')"
   ]
  },
  {
   "cell_type": "code",
   "execution_count": 162,
   "id": "66f0a1bd-e5a1-4eb2-92e1-8375a0383062",
   "metadata": {},
   "outputs": [
    {
     "name": "stdout",
     "output_type": "stream",
     "text": [
      "R2 score 0.8145\n",
      "CrossValidation score 0.814\n",
      "MSE: 3.519\n",
      "CPU times: total: 3.61 s\n",
      "Wall time: 1.29 s\n"
     ]
    }
   ],
   "source": [
    "%%time\n",
    "lr = LinearRegression()\n",
    "model(lr, 'Linear Regression')"
   ]
  },
  {
   "cell_type": "code",
   "execution_count": 163,
   "id": "f7ae3429-b1f6-46b0-96a6-58c0d2561f26",
   "metadata": {},
   "outputs": [
    {
     "name": "stdout",
     "output_type": "stream",
     "text": [
      "R2 score 0.809\n",
      "CrossValidation score 0.8062\n",
      "MSE: 3.624\n",
      "CPU times: total: 13.8 s\n",
      "Wall time: 14.1 s\n"
     ]
    }
   ],
   "source": [
    "%%time\n",
    "dtr = DecisionTreeRegressor()\n",
    "model(dtr, 'Decision Tree Regressor')"
   ]
  },
  {
   "cell_type": "code",
   "execution_count": 164,
   "id": "5a7c281c-b754-417f-8171-c677bc4e931a",
   "metadata": {},
   "outputs": [
    {
     "name": "stdout",
     "output_type": "stream",
     "text": [
      "R2 score 0.7867\n",
      "CrossValidation score 0.771\n",
      "MSE: 4.047\n",
      "CPU times: total: 1min 42s\n",
      "Wall time: 1min 43s\n"
     ]
    }
   ],
   "source": [
    "%%time\n",
    "ada = AdaBoostRegressor()\n",
    "model(ada, 'Ada Boost')"
   ]
  },
  {
   "cell_type": "code",
   "execution_count": 165,
   "id": "59280d5e-2030-4191-a47a-9a6738b401e1",
   "metadata": {},
   "outputs": [
    {
     "name": "stdout",
     "output_type": "stream",
     "text": [
      "R2 score 0.8802\n",
      "CrossValidation score 0.8793\n",
      "MSE: 2.273\n",
      "CPU times: total: 4min 4s\n",
      "Wall time: 4min 7s\n"
     ]
    }
   ],
   "source": [
    "%%time\n",
    "gbr = GradientBoostingRegressor()\n",
    "model(gbr, 'Gradient Boosting Regression')"
   ]
  },
  {
   "cell_type": "code",
   "execution_count": 166,
   "id": "c711ab0c-84c2-4e3e-9d5e-45b0581b9129",
   "metadata": {},
   "outputs": [
    {
     "name": "stdout",
     "output_type": "stream",
     "text": [
      "R2 score 0.9089\n",
      "CrossValidation score 0.9066\n",
      "MSE: 1.729\n",
      "CPU times: total: 4min 59s\n",
      "Wall time: 1min 22s\n"
     ]
    }
   ],
   "source": [
    "%%time\n",
    "rf = RandomForestRegressor(n_jobs = -1)\n",
    "model(rf, 'Random Forest Regressor')"
   ]
  },
  {
   "cell_type": "code",
   "execution_count": 167,
   "id": "a0e9057e-1bba-432e-8ecb-5f1e324b83ac",
   "metadata": {},
   "outputs": [
    {
     "name": "stdout",
     "output_type": "stream",
     "text": [
      "R2 score 0.9085\n",
      "CrossValidation score 0.9067\n",
      "MSE: 1.735\n",
      "CPU times: total: 19.8 s\n",
      "Wall time: 5.07 s\n"
     ]
    }
   ],
   "source": [
    "%%time\n",
    "lgbm = LGBMRegressor(n_jobs = 4)\n",
    "model(lgbm, 'Light GBM regressor')"
   ]
  },
  {
   "cell_type": "code",
   "execution_count": 168,
   "id": "f3c55518-f425-488d-b608-69f29f8479ab",
   "metadata": {},
   "outputs": [
    {
     "data": {
      "text/html": [
       "<div>\n",
       "<style scoped>\n",
       "    .dataframe tbody tr th:only-of-type {\n",
       "        vertical-align: middle;\n",
       "    }\n",
       "\n",
       "    .dataframe tbody tr th {\n",
       "        vertical-align: top;\n",
       "    }\n",
       "\n",
       "    .dataframe thead th {\n",
       "        text-align: right;\n",
       "    }\n",
       "</style>\n",
       "<table border=\"1\" class=\"dataframe\">\n",
       "  <thead>\n",
       "    <tr style=\"text-align: right;\">\n",
       "      <th></th>\n",
       "      <th>model</th>\n",
       "      <th>r2</th>\n",
       "      <th>cv</th>\n",
       "      <th>mse</th>\n",
       "    </tr>\n",
       "  </thead>\n",
       "  <tbody>\n",
       "    <tr>\n",
       "      <th>0</th>\n",
       "      <td>XGBoost</td>\n",
       "      <td>0.9113</td>\n",
       "      <td>0.9101</td>\n",
       "      <td>1.684</td>\n",
       "    </tr>\n",
       "    <tr>\n",
       "      <th>5</th>\n",
       "      <td>Random Forest Regressor</td>\n",
       "      <td>0.9089</td>\n",
       "      <td>0.9066</td>\n",
       "      <td>1.729</td>\n",
       "    </tr>\n",
       "    <tr>\n",
       "      <th>6</th>\n",
       "      <td>Light GBM regressor</td>\n",
       "      <td>0.9085</td>\n",
       "      <td>0.9067</td>\n",
       "      <td>1.735</td>\n",
       "    </tr>\n",
       "    <tr>\n",
       "      <th>4</th>\n",
       "      <td>Gradient Boosting Regression</td>\n",
       "      <td>0.8802</td>\n",
       "      <td>0.8793</td>\n",
       "      <td>2.273</td>\n",
       "    </tr>\n",
       "    <tr>\n",
       "      <th>1</th>\n",
       "      <td>Linear Regression</td>\n",
       "      <td>0.8145</td>\n",
       "      <td>0.8140</td>\n",
       "      <td>3.519</td>\n",
       "    </tr>\n",
       "    <tr>\n",
       "      <th>2</th>\n",
       "      <td>Decision Tree Regressor</td>\n",
       "      <td>0.8090</td>\n",
       "      <td>0.8062</td>\n",
       "      <td>3.624</td>\n",
       "    </tr>\n",
       "    <tr>\n",
       "      <th>3</th>\n",
       "      <td>Ada Boost</td>\n",
       "      <td>0.7867</td>\n",
       "      <td>0.7710</td>\n",
       "      <td>4.047</td>\n",
       "    </tr>\n",
       "  </tbody>\n",
       "</table>\n",
       "</div>"
      ],
      "text/plain": [
       "                          model      r2      cv    mse\n",
       "0                       XGBoost  0.9113  0.9101  1.684\n",
       "5       Random Forest Regressor  0.9089  0.9066  1.729\n",
       "6           Light GBM regressor  0.9085  0.9067  1.735\n",
       "4  Gradient Boosting Regression  0.8802  0.8793  2.273\n",
       "1             Linear Regression  0.8145  0.8140  3.519\n",
       "2       Decision Tree Regressor  0.8090  0.8062  3.624\n",
       "3                     Ada Boost  0.7867  0.7710  4.047"
      ]
     },
     "execution_count": 168,
     "metadata": {},
     "output_type": "execute_result"
    }
   ],
   "source": [
    "df_scores = pd.DataFrame(data, columns = ['model', 'r2', 'cv', 'mse']).sort_values(by='r2', ascending=False)\n",
    "df_scores"
   ]
  },
  {
   "cell_type": "code",
   "execution_count": 169,
   "id": "ff71f89a-1db0-467f-a7bb-3918d65bf232",
   "metadata": {},
   "outputs": [
    {
     "data": {
      "image/png": "[encoded data removed]",
      "text/plain": [
       "<Figure size 720x360 with 1 Axes>"
      ]
     },
     "metadata": {},
     "output_type": "display_data"
    }
   ],
   "source": [
    "plt.figure(figsize = (10, 5))\n",
    "sns.barplot(x = 'model', y = 'r2', data=df_scores,order=df_scores['model']).set_xticklabels(labels = df_scores['model'], rotation=90)\n",
    "plt.title('Model Comparision by R2')\n",
    "plt.show()"
   ]
  },
  {
   "cell_type": "markdown",
   "id": "b756e839-5a19-4896-ae46-de6f633b9db0",
   "metadata": {},
   "source": [
    "# HyperParameter Tuning for XGBoost"
   ]
  },
  {
   "cell_type": "code",
   "execution_count": 170,
   "id": "b2ab8f3d-ecc7-40cd-9233-64e85b31ee8c",
   "metadata": {
    "scrolled": true,
    "tags": []
   },
   "outputs": [
    {
     "data": {
      "text/plain": [
       "{'objective': 'reg:squarederror',\n",
       " 'base_score': None,\n",
       " 'booster': None,\n",
       " 'callbacks': None,\n",
       " 'colsample_bylevel': None,\n",
       " 'colsample_bynode': None,\n",
       " 'colsample_bytree': None,\n",
       " 'early_stopping_rounds': None,\n",
       " 'enable_categorical': False,\n",
       " 'eval_metric': None,\n",
       " 'feature_types': None,\n",
       " 'gamma': None,\n",
       " 'gpu_id': None,\n",
       " 'grow_policy': None,\n",
       " 'importance_type': None,\n",
       " 'interaction_constraints': None,\n",
       " 'learning_rate': None,\n",
       " 'max_bin': None,\n",
       " 'max_cat_threshold': None,\n",
       " 'max_cat_to_onehot': None,\n",
       " 'max_delta_step': None,\n",
       " 'max_depth': None,\n",
       " 'max_leaves': None,\n",
       " 'min_child_weight': None,\n",
       " 'missing': nan,\n",
       " 'monotone_constraints': None,\n",
       " 'n_estimators': 100,\n",
       " 'n_jobs': -1,\n",
       " 'num_parallel_tree': None,\n",
       " 'predictor': None,\n",
       " 'random_state': None,\n",
       " 'reg_alpha': None,\n",
       " 'reg_lambda': None,\n",
       " 'sampling_method': None,\n",
       " 'scale_pos_weight': None,\n",
       " 'subsample': None,\n",
       " 'tree_method': None,\n",
       " 'validate_parameters': None,\n",
       " 'verbosity': None}"
      ]
     },
     "execution_count": 170,
     "metadata": {},
     "output_type": "execute_result"
    }
   ],
   "source": [
    "xgb.get_params()"
   ]
  },
  {
   "cell_type": "code",
   "execution_count": 171,
   "id": "35de62af-7d90-4721-ad50-e59b085ddb2b",
   "metadata": {},
   "outputs": [],
   "source": [
    "param_grid = {\n",
    "    'n_estimators' : range(80, 115, 5),\n",
    "    'learning_rate' : np.arange(0.2, 0.5, 0.02),\n",
    "    'max_depth': np.arange(2, 8, 1)\n",
    "}"
   ]
  },
  {
   "cell_type": "code",
   "execution_count": 172,
   "id": "f6bba04b-e2ce-4f58-a26c-b1fe8bafd915",
   "metadata": {},
   "outputs": [],
   "source": [
    "rsearch = RandomizedSearchCV(estimator = xgb, \n",
    "                             param_distributions = param_grid, \n",
    "                             cv = 5, \n",
    "                             scoring = 'accuracy', \n",
    "                             n_jobs = -1, \n",
    "                             random_state = 1, \n",
    "                             n_iter = 8\n",
    "                            )"
   ]
  },
  {
   "cell_type": "code",
   "execution_count": 173,
   "id": "20b4b075-361d-4bb8-a28f-6a29519eca8b",
   "metadata": {},
   "outputs": [
    {
     "name": "stdout",
     "output_type": "stream",
     "text": [
      "CPU times: total: 42.5 s\n",
      "Wall time: 2min 45s\n"
     ]
    },
    {
     "data": {
      "text/html": [
       "<style>#sk-container-id-1 {color: black;background-color: white;}#sk-container-id-1 pre{padding: 0;}#sk-container-id-1 div.sk-toggleable {background-color: white;}#sk-container-id-1 label.sk-toggleable__label {cursor: pointer;display: block;width: 100%;margin-bottom: 0;padding: 0.3em;box-sizing: border-box;text-align: center;}#sk-container-id-1 label.sk-toggleable__label-arrow:before {content: \"▸\";float: left;margin-right: 0.25em;color: #696969;}#sk-container-id-1 label.sk-toggleable__label-arrow:hover:before {color: black;}#sk-container-id-1 div.sk-estimator:hover label.sk-toggleable__label-arrow:before {color: black;}#sk-container-id-1 div.sk-toggleable__content {max-height: 0;max-width: 0;overflow: hidden;text-align: left;background-color: #f0f8ff;}#sk-container-id-1 div.sk-toggleable__content pre {margin: 0.2em;color: black;border-radius: 0.25em;background-color: #f0f8ff;}#sk-container-id-1 input.sk-toggleable__control:checked~div.sk-toggleable__content {max-height: 200px;max-width: 100%;overflow: auto;}#sk-container-id-1 input.sk-toggleable__control:checked~label.sk-toggleable__label-arrow:before {content: \"▾\";}#sk-container-id-1 div.sk-estimator input.sk-toggleable__control:checked~label.sk-toggleable__label {background-color: #d4ebff;}#sk-container-id-1 div.sk-label input.sk-toggleable__control:checked~label.sk-toggleable__label {background-color: #d4ebff;}#sk-container-id-1 input.sk-hidden--visually {border: 0;clip: rect(1px 1px 1px 1px);clip: rect(1px, 1px, 1px, 1px);height: 1px;margin: -1px;overflow: hidden;padding: 0;position: absolute;width: 1px;}#sk-container-id-1 div.sk-estimator {font-family: monospace;background-color: #f0f8ff;border: 1px dotted black;border-radius: 0.25em;box-sizing: border-box;margin-bottom: 0.5em;}#sk-container-id-1 div.sk-estimator:hover {background-color: #d4ebff;}#sk-container-id-1 div.sk-parallel-item::after {content: \"\";width: 100%;border-bottom: 1px solid gray;flex-grow: 1;}#sk-container-id-1 div.sk-label:hover label.sk-toggleable__label {background-color: #d4ebff;}#sk-container-id-1 div.sk-serial::before {content: \"\";position: absolute;border-left: 1px solid gray;box-sizing: border-box;top: 0;bottom: 0;left: 50%;z-index: 0;}#sk-container-id-1 div.sk-serial {display: flex;flex-direction: column;align-items: center;background-color: white;padding-right: 0.2em;padding-left: 0.2em;position: relative;}#sk-container-id-1 div.sk-item {position: relative;z-index: 1;}#sk-container-id-1 div.sk-parallel {display: flex;align-items: stretch;justify-content: center;background-color: white;position: relative;}#sk-container-id-1 div.sk-item::before, #sk-container-id-1 div.sk-parallel-item::before {content: \"\";position: absolute;border-left: 1px solid gray;box-sizing: border-box;top: 0;bottom: 0;left: 50%;z-index: -1;}#sk-container-id-1 div.sk-parallel-item {display: flex;flex-direction: column;z-index: 1;position: relative;background-color: white;}#sk-container-id-1 div.sk-parallel-item:first-child::after {align-self: flex-end;width: 50%;}#sk-container-id-1 div.sk-parallel-item:last-child::after {align-self: flex-start;width: 50%;}#sk-container-id-1 div.sk-parallel-item:only-child::after {width: 0;}#sk-container-id-1 div.sk-dashed-wrapped {border: 1px dashed gray;margin: 0 0.4em 0.5em 0.4em;box-sizing: border-box;padding-bottom: 0.4em;background-color: white;}#sk-container-id-1 div.sk-label label {font-family: monospace;font-weight: bold;display: inline-block;line-height: 1.2em;}#sk-container-id-1 div.sk-label-container {text-align: center;}#sk-container-id-1 div.sk-container {/* jupyter's `normalize.less` sets `[hidden] { display: none; }` but bootstrap.min.css set `[hidden] { display: none !important; }` so we also need the `!important` here to be able to override the default hidden behavior on the sphinx rendered scikit-learn.org. See: https://github.com/scikit-learn/scikit-learn/issues/21755 */display: inline-block !important;position: relative;}#sk-container-id-1 div.sk-text-repr-fallback {display: none;}</style><div id=\"sk-container-id-1\" class=\"sk-top-container\"><div class=\"sk-text-repr-fallback\"><pre>RandomizedSearchCV(cv=5,\n",
       "                   estimator=XGBRegressor(base_score=None, booster=None,\n",
       "                                          callbacks=None,\n",
       "                                          colsample_bylevel=None,\n",
       "                                          colsample_bynode=None,\n",
       "                                          colsample_bytree=None,\n",
       "                                          early_stopping_rounds=None,\n",
       "                                          enable_categorical=False,\n",
       "                                          eval_metric=None, feature_types=None,\n",
       "                                          gamma=None, gpu_id=None,\n",
       "                                          grow_policy=None,\n",
       "                                          importance_type=None,\n",
       "                                          interaction_constraints=None,\n",
       "                                          learning_rate=...\n",
       "                                          monotone_constraints=None,\n",
       "                                          n_estimators=100, n_jobs=-1,\n",
       "                                          num_parallel_tree=None,\n",
       "                                          predictor=None, random_state=None, ...),\n",
       "                   n_iter=8, n_jobs=-1,\n",
       "                   param_distributions={&#x27;learning_rate&#x27;: array([0.2 , 0.22, 0.24, 0.26, 0.28, 0.3 , 0.32, 0.34, 0.36, 0.38, 0.4 ,\n",
       "       0.42, 0.44, 0.46, 0.48]),\n",
       "                                        &#x27;max_depth&#x27;: array([2, 3, 4, 5, 6, 7]),\n",
       "                                        &#x27;n_estimators&#x27;: range(80, 115, 5)},\n",
       "                   random_state=1, scoring=&#x27;accuracy&#x27;)</pre><b>In a Jupyter environment, please rerun this cell to show the HTML representation or trust the notebook. <br />On GitHub, the HTML representation is unable to render, please try loading this page with nbviewer.org.</b></div><div class=\"sk-container\" hidden><div class=\"sk-item sk-dashed-wrapped\"><div class=\"sk-label-container\"><div class=\"sk-label sk-toggleable\"><input class=\"sk-toggleable__control sk-hidden--visually\" id=\"sk-estimator-id-1\" type=\"checkbox\" ><label for=\"sk-estimator-id-1\" class=\"sk-toggleable__label sk-toggleable__label-arrow\">RandomizedSearchCV</label><div class=\"sk-toggleable__content\"><pre>RandomizedSearchCV(cv=5,\n",
       "                   estimator=XGBRegressor(base_score=None, booster=None,\n",
       "                                          callbacks=None,\n",
       "                                          colsample_bylevel=None,\n",
       "                                          colsample_bynode=None,\n",
       "                                          colsample_bytree=None,\n",
       "                                          early_stopping_rounds=None,\n",
       "                                          enable_categorical=False,\n",
       "                                          eval_metric=None, feature_types=None,\n",
       "                                          gamma=None, gpu_id=None,\n",
       "                                          grow_policy=None,\n",
       "                                          importance_type=None,\n",
       "                                          interaction_constraints=None,\n",
       "                                          learning_rate=...\n",
       "                                          monotone_constraints=None,\n",
       "                                          n_estimators=100, n_jobs=-1,\n",
       "                                          num_parallel_tree=None,\n",
       "                                          predictor=None, random_state=None, ...),\n",
       "                   n_iter=8, n_jobs=-1,\n",
       "                   param_distributions={&#x27;learning_rate&#x27;: array([0.2 , 0.22, 0.24, 0.26, 0.28, 0.3 , 0.32, 0.34, 0.36, 0.38, 0.4 ,\n",
       "       0.42, 0.44, 0.46, 0.48]),\n",
       "                                        &#x27;max_depth&#x27;: array([2, 3, 4, 5, 6, 7]),\n",
       "                                        &#x27;n_estimators&#x27;: range(80, 115, 5)},\n",
       "                   random_state=1, scoring=&#x27;accuracy&#x27;)</pre></div></div></div><div class=\"sk-parallel\"><div class=\"sk-parallel-item\"><div class=\"sk-item\"><div class=\"sk-label-container\"><div class=\"sk-label sk-toggleable\"><input class=\"sk-toggleable__control sk-hidden--visually\" id=\"sk-estimator-id-2\" type=\"checkbox\" ><label for=\"sk-estimator-id-2\" class=\"sk-toggleable__label sk-toggleable__label-arrow\">estimator: XGBRegressor</label><div class=\"sk-toggleable__content\"><pre>XGBRegressor(base_score=None, booster=None, callbacks=None,\n",
       "             colsample_bylevel=None, colsample_bynode=None,\n",
       "             colsample_bytree=None, early_stopping_rounds=None,\n",
       "             enable_categorical=False, eval_metric=None, feature_types=None,\n",
       "             gamma=None, gpu_id=None, grow_policy=None, importance_type=None,\n",
       "             interaction_constraints=None, learning_rate=None, max_bin=None,\n",
       "             max_cat_threshold=None, max_cat_to_onehot=None,\n",
       "             max_delta_step=None, max_depth=None, max_leaves=None,\n",
       "             min_child_weight=None, missing=nan, monotone_constraints=None,\n",
       "             n_estimators=100, n_jobs=-1, num_parallel_tree=None,\n",
       "             predictor=None, random_state=None, ...)</pre></div></div></div><div class=\"sk-serial\"><div class=\"sk-item\"><div class=\"sk-estimator sk-toggleable\"><input class=\"sk-toggleable__control sk-hidden--visually\" id=\"sk-estimator-id-3\" type=\"checkbox\" ><label for=\"sk-estimator-id-3\" class=\"sk-toggleable__label sk-toggleable__label-arrow\">XGBRegressor</label><div class=\"sk-toggleable__content\"><pre>XGBRegressor(base_score=None, booster=None, callbacks=None,\n",
       "             colsample_bylevel=None, colsample_bynode=None,\n",
       "             colsample_bytree=None, early_stopping_rounds=None,\n",
       "             enable_categorical=False, eval_metric=None, feature_types=None,\n",
       "             gamma=None, gpu_id=None, grow_policy=None, importance_type=None,\n",
       "             interaction_constraints=None, learning_rate=None, max_bin=None,\n",
       "             max_cat_threshold=None, max_cat_to_onehot=None,\n",
       "             max_delta_step=None, max_depth=None, max_leaves=None,\n",
       "             min_child_weight=None, missing=nan, monotone_constraints=None,\n",
       "             n_estimators=100, n_jobs=-1, num_parallel_tree=None,\n",
       "             predictor=None, random_state=None, ...)</pre></div></div></div></div></div></div></div></div></div></div>"
      ],
      "text/plain": [
       "RandomizedSearchCV(cv=5,\n",
       "                   estimator=XGBRegressor(base_score=None, booster=None,\n",
       "                                          callbacks=None,\n",
       "                                          colsample_bylevel=None,\n",
       "                                          colsample_bynode=None,\n",
       "                                          colsample_bytree=None,\n",
       "                                          early_stopping_rounds=None,\n",
       "                                          enable_categorical=False,\n",
       "                                          eval_metric=None, feature_types=None,\n",
       "                                          gamma=None, gpu_id=None,\n",
       "                                          grow_policy=None,\n",
       "                                          importance_type=None,\n",
       "                                          interaction_constraints=None,\n",
       "                                          learning_rate=...\n",
       "                                          monotone_constraints=None,\n",
       "                                          n_estimators=100, n_jobs=-1,\n",
       "                                          num_parallel_tree=None,\n",
       "                                          predictor=None, random_state=None, ...),\n",
       "                   n_iter=8, n_jobs=-1,\n",
       "                   param_distributions={'learning_rate': array([0.2 , 0.22, 0.24, 0.26, 0.28, 0.3 , 0.32, 0.34, 0.36, 0.38, 0.4 ,\n",
       "       0.42, 0.44, 0.46, 0.48]),\n",
       "                                        'max_depth': array([2, 3, 4, 5, 6, 7]),\n",
       "                                        'n_estimators': range(80, 115, 5)},\n",
       "                   random_state=1, scoring='accuracy')"
      ]
     },
     "execution_count": 173,
     "metadata": {},
     "output_type": "execute_result"
    }
   ],
   "source": [
    "%%time \n",
    "rsearch.fit(X_train,y_train)"
   ]
  },
  {
   "cell_type": "code",
   "execution_count": 174,
   "id": "20c78595-64f1-4a4a-b11c-b1e248242196",
   "metadata": {},
   "outputs": [
    {
     "name": "stdout",
     "output_type": "stream",
     "text": [
      "R2 score 0.9112\n",
      "CrossValidation score 0.9095\n",
      "MSE: 1.685\n",
      "CPU times: total: 3min 34s\n",
      "Wall time: 54.2 s\n"
     ]
    }
   ],
   "source": [
    "%%time \n",
    "model(rsearch.best_estimator_, 'XGBoost_tuned')"
   ]
  },
  {
   "cell_type": "code",
   "execution_count": 175,
   "id": "7c128f70-907d-4f98-8547-40ebde242b68",
   "metadata": {},
   "outputs": [
    {
     "name": "stdout",
     "output_type": "stream",
     "text": [
      "XGBRegressor(base_score=None, booster=None, callbacks=None,\n",
      "             colsample_bylevel=None, colsample_bynode=None,\n",
      "             colsample_bytree=None, early_stopping_rounds=None,\n",
      "             enable_categorical=False, eval_metric=None, feature_types=None,\n",
      "             gamma=None, gpu_id=None, grow_policy=None, importance_type=None,\n",
      "             interaction_constraints=None, learning_rate=0.41999999999999993,\n",
      "             max_bin=None, max_cat_threshold=None, max_cat_to_onehot=None,\n",
      "             max_delta_step=None, max_depth=6, max_leaves=None,\n",
      "             min_child_weight=None, missing=nan, monotone_constraints=None,\n",
      "             n_estimators=110, n_jobs=-1, num_parallel_tree=None,\n",
      "             predictor=None, random_state=None, ...)\n"
     ]
    }
   ],
   "source": [
    "print(rsearch.best_estimator_)"
   ]
  },
  {
   "cell_type": "code",
   "execution_count": 176,
   "id": "4aecd5c4-cd76-4cea-b417-e397e9b547e7",
   "metadata": {},
   "outputs": [],
   "source": [
    "xgb_tuned = rsearch.best_estimator_"
   ]
  },
  {
   "cell_type": "code",
   "execution_count": 177,
   "id": "25cf7fd4-9603-4831-8551-b45161e5f9b5",
   "metadata": {},
   "outputs": [
    {
     "data": {
      "text/html": [
       "<div>\n",
       "<style scoped>\n",
       "    .dataframe tbody tr th:only-of-type {\n",
       "        vertical-align: middle;\n",
       "    }\n",
       "\n",
       "    .dataframe tbody tr th {\n",
       "        vertical-align: top;\n",
       "    }\n",
       "\n",
       "    .dataframe thead th {\n",
       "        text-align: right;\n",
       "    }\n",
       "</style>\n",
       "<table border=\"1\" class=\"dataframe\">\n",
       "  <thead>\n",
       "    <tr style=\"text-align: right;\">\n",
       "      <th></th>\n",
       "      <th>model</th>\n",
       "      <th>r2</th>\n",
       "      <th>cv</th>\n",
       "      <th>mse</th>\n",
       "    </tr>\n",
       "  </thead>\n",
       "  <tbody>\n",
       "    <tr>\n",
       "      <th>0</th>\n",
       "      <td>XGBoost</td>\n",
       "      <td>0.9113</td>\n",
       "      <td>0.9101</td>\n",
       "      <td>1.684</td>\n",
       "    </tr>\n",
       "    <tr>\n",
       "      <th>7</th>\n",
       "      <td>XGBoost_tuned</td>\n",
       "      <td>0.9112</td>\n",
       "      <td>0.9095</td>\n",
       "      <td>1.685</td>\n",
       "    </tr>\n",
       "    <tr>\n",
       "      <th>5</th>\n",
       "      <td>Random Forest Regressor</td>\n",
       "      <td>0.9089</td>\n",
       "      <td>0.9066</td>\n",
       "      <td>1.729</td>\n",
       "    </tr>\n",
       "    <tr>\n",
       "      <th>6</th>\n",
       "      <td>Light GBM regressor</td>\n",
       "      <td>0.9085</td>\n",
       "      <td>0.9067</td>\n",
       "      <td>1.735</td>\n",
       "    </tr>\n",
       "    <tr>\n",
       "      <th>4</th>\n",
       "      <td>Gradient Boosting Regression</td>\n",
       "      <td>0.8802</td>\n",
       "      <td>0.8793</td>\n",
       "      <td>2.273</td>\n",
       "    </tr>\n",
       "    <tr>\n",
       "      <th>1</th>\n",
       "      <td>Linear Regression</td>\n",
       "      <td>0.8145</td>\n",
       "      <td>0.8140</td>\n",
       "      <td>3.519</td>\n",
       "    </tr>\n",
       "    <tr>\n",
       "      <th>2</th>\n",
       "      <td>Decision Tree Regressor</td>\n",
       "      <td>0.8090</td>\n",
       "      <td>0.8062</td>\n",
       "      <td>3.624</td>\n",
       "    </tr>\n",
       "    <tr>\n",
       "      <th>3</th>\n",
       "      <td>Ada Boost</td>\n",
       "      <td>0.7867</td>\n",
       "      <td>0.7710</td>\n",
       "      <td>4.047</td>\n",
       "    </tr>\n",
       "  </tbody>\n",
       "</table>\n",
       "</div>"
      ],
      "text/plain": [
       "                          model      r2      cv    mse\n",
       "0                       XGBoost  0.9113  0.9101  1.684\n",
       "7                 XGBoost_tuned  0.9112  0.9095  1.685\n",
       "5       Random Forest Regressor  0.9089  0.9066  1.729\n",
       "6           Light GBM regressor  0.9085  0.9067  1.735\n",
       "4  Gradient Boosting Regression  0.8802  0.8793  2.273\n",
       "1             Linear Regression  0.8145  0.8140  3.519\n",
       "2       Decision Tree Regressor  0.8090  0.8062  3.624\n",
       "3                     Ada Boost  0.7867  0.7710  4.047"
      ]
     },
     "execution_count": 177,
     "metadata": {},
     "output_type": "execute_result"
    }
   ],
   "source": [
    "df_scores = pd.DataFrame(data, columns = ['model', 'r2', 'cv', 'mse']).sort_values(by='r2', ascending=False)\n",
    "df_scores"
   ]
  },
  {
   "cell_type": "code",
   "execution_count": 178,
   "id": "4d5db92e-c27c-456e-b701-e1d4daf063b1",
   "metadata": {},
   "outputs": [
    {
     "data": {
      "image/png": "[encoded data removed]",
      "text/plain": [
       "<Figure size 720x360 with 1 Axes>"
      ]
     },
     "metadata": {},
     "output_type": "display_data"
    }
   ],
   "source": [
    "plt.figure(figsize = (10, 5))\n",
    "sns.barplot(x = 'model', y = 'r2', data=df_scores,order=df_scores['model']).set_xticklabels(labels = df_scores['model'], rotation=90)\n",
    "plt.title('Model Comparision by R2')\n",
    "plt.show()"
   ]
  },
  {
   "cell_type": "code",
   "execution_count": 179,
   "id": "9a383beb-afaa-43f0-85ef-00587f3901c2",
   "metadata": {},
   "outputs": [],
   "source": [
    "y = df_testing.pop('X1')\n",
    "y_pred = xgb.predict(df_testing)\n",
    "results = pd.DataFrame(y_pred)"
   ]
  },
  {
   "cell_type": "code",
   "execution_count": 180,
   "id": "4d0645f2-1051-4742-b529-91ad1eaa009d",
   "metadata": {},
   "outputs": [
    {
     "data": {
      "text/html": [
       "<div>\n",
       "<style scoped>\n",
       "    .dataframe tbody tr th:only-of-type {\n",
       "        vertical-align: middle;\n",
       "    }\n",
       "\n",
       "    .dataframe tbody tr th {\n",
       "        vertical-align: top;\n",
       "    }\n",
       "\n",
       "    .dataframe thead th {\n",
       "        text-align: right;\n",
       "    }\n",
       "</style>\n",
       "<table border=\"1\" class=\"dataframe\">\n",
       "  <thead>\n",
       "    <tr style=\"text-align: right;\">\n",
       "      <th></th>\n",
       "      <th>X1</th>\n",
       "    </tr>\n",
       "  </thead>\n",
       "  <tbody>\n",
       "    <tr>\n",
       "      <th>0</th>\n",
       "      <td>15.914798</td>\n",
       "    </tr>\n",
       "    <tr>\n",
       "      <th>1</th>\n",
       "      <td>6.269981</td>\n",
       "    </tr>\n",
       "    <tr>\n",
       "      <th>2</th>\n",
       "      <td>14.759917</td>\n",
       "    </tr>\n",
       "    <tr>\n",
       "      <th>3</th>\n",
       "      <td>16.524426</td>\n",
       "    </tr>\n",
       "    <tr>\n",
       "      <th>4</th>\n",
       "      <td>10.346273</td>\n",
       "    </tr>\n",
       "  </tbody>\n",
       "</table>\n",
       "</div>"
      ],
      "text/plain": [
       "          X1\n",
       "0  15.914798\n",
       "1   6.269981\n",
       "2  14.759917\n",
       "3  16.524426\n",
       "4  10.346273"
      ]
     },
     "execution_count": 180,
     "metadata": {},
     "output_type": "execute_result"
    }
   ],
   "source": [
    "results.rename(columns = {0:'X1'}, inplace = True)\n",
    "results.head()"
   ]
  },
  {
   "cell_type": "code",
   "execution_count": 182,
   "id": "86c0de6f-f56d-4ca4-b22b-15b8c79889c8",
   "metadata": {},
   "outputs": [],
   "source": [
    "results.to_csv('LoanRatePrediction_jasmeetsingh.csv')"
   ]
  },
  {
   "cell_type": "code",
   "execution_count": null,
   "id": "7d9edb18-f947-4124-83e3-26eb21857fb0",
   "metadata": {},
   "outputs": [],
   "source": []
  }
 ],
 "metadata": {
  "kernelspec": {
   "display_name": "Python 3 (ipykernel)",
   "language": "python",
   "name": "python3"
  },
  "language_info": {
   "codemirror_mode": {
    "name": "ipython",
    "version": 3
   },
   "file_extension": ".py",
   "mimetype": "text/x-python",
   "name": "python",
   "nbconvert_exporter": "python",
   "pygments_lexer": "ipython3",
   "version": "3.10.6"
  }
 },
 "nbformat": 4,
 "nbformat_minor": 5
}
