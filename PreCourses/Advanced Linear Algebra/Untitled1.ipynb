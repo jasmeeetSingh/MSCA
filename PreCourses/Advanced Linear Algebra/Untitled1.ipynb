{
 "cells": [
  {
   "cell_type": "code",
   "execution_count": 3,
   "id": "5918bff0-0d00-41be-8a21-fa6933b2ebee",
   "metadata": {},
   "outputs": [],
   "source": [
    "import numpy as np\n",
    "from numpy import linalg as LA"
   ]
  },
  {
   "cell_type": "code",
   "execution_count": 4,
   "id": "35f735f8-5d50-4f6a-ba02-7fdced657d5e",
   "metadata": {},
   "outputs": [],
   "source": [
    "a = np.matrix([[3, 5, 3],[1, 7, 3],[1, 2,8]])"
   ]
  },
  {
   "cell_type": "code",
   "execution_count": 6,
   "id": "5d96cf57-8163-4c70-9706-91595e03be0e",
   "metadata": {},
   "outputs": [
    {
     "name": "stdout",
     "output_type": "stream",
     "text": [
      "(array([ 2., 11.,  5.]), matrix([[-0.98473193,  0.57735027, -0.57735027],\n",
      "        [ 0.12309149,  0.57735027, -0.57735027],\n",
      "        [ 0.12309149,  0.57735027,  0.57735027]]))\n"
     ]
    }
   ],
   "source": [
    "print(LA.eig(a))"
   ]
  },
  {
   "cell_type": "code",
   "execution_count": null,
   "id": "9ce8b15e-bca7-4421-bbe2-33bd09e3cdb0",
   "metadata": {},
   "outputs": [],
   "source": []
  }
 ],
 "metadata": {
  "kernelspec": {
   "display_name": "Python 3 (ipykernel)",
   "language": "python",
   "name": "python3"
  },
  "language_info": {
   "codemirror_mode": {
    "name": "ipython",
    "version": 3
   },
   "file_extension": ".py",
   "mimetype": "text/x-python",
   "name": "python",
   "nbconvert_exporter": "python",
   "pygments_lexer": "ipython3",
   "version": "3.10.6"
  }
 },
 "nbformat": 4,
 "nbformat_minor": 5
}
