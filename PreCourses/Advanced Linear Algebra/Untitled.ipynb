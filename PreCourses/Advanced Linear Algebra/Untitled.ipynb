{
 "cells": [
  {
   "cell_type": "code",
   "execution_count": 1,
   "id": "2d07efa2-1233-48d1-8ad7-6a7ed01f2080",
   "metadata": {},
   "outputs": [],
   "source": [
    "import numpy as np"
   ]
  },
  {
   "cell_type": "markdown",
   "id": "6ab1132b-545c-4e6d-9d91-0732c60861ca",
   "metadata": {},
   "source": [
    "#### Question1"
   ]
  },
  {
   "cell_type": "code",
   "execution_count": 2,
   "id": "22bf8ee5-80f1-4f76-b435-7f75d8a24c95",
   "metadata": {},
   "outputs": [],
   "source": [
    "A = np.array([[1, 0], [0, 1], [1, 1]])\n",
    "B = np.array([-1, 1, 0])"
   ]
  },
  {
   "cell_type": "code",
   "execution_count": 3,
   "id": "4bd32755-871a-4797-82db-f671d13c1701",
   "metadata": {},
   "outputs": [
    {
     "name": "stdout",
     "output_type": "stream",
     "text": [
      "[[2 1]\n",
      " [1 2]]\n"
     ]
    }
   ],
   "source": [
    "AT_A = np.matmul(A.T, A)\n",
    "print(AT_A)"
   ]
  },
  {
   "cell_type": "code",
   "execution_count": 4,
   "id": "643c0930-f39f-441b-9b74-c79b53f129ea",
   "metadata": {},
   "outputs": [
    {
     "name": "stdout",
     "output_type": "stream",
     "text": [
      "[[ 0.66666667 -0.33333333]\n",
      " [-0.33333333  0.66666667]]\n"
     ]
    }
   ],
   "source": [
    "inv_AT_A = np.linalg.inv(AT_A)\n",
    "print(inv_AT_A)"
   ]
  },
  {
   "cell_type": "code",
   "execution_count": 5,
   "id": "f781e935-7467-4154-9e93-8d128104b49b",
   "metadata": {},
   "outputs": [
    {
     "name": "stdout",
     "output_type": "stream",
     "text": [
      "[-1.  1.] (2,)\n"
     ]
    }
   ],
   "source": [
    "x = np.matmul(np.matmul(inv_AT_A, A.T), B)\n",
    "print(x, x.shape)"
   ]
  },
  {
   "cell_type": "code",
   "execution_count": 27,
   "id": "c649fc1f-cd18-4693-9c7b-6beb0621d627",
   "metadata": {},
   "outputs": [],
   "source": [
    "AT_A = np.array([[2, 1],[0, 4]])\n",
    "# AT_A = np.matmul(AT_A, AT_A)"
   ]
  },
  {
   "cell_type": "code",
   "execution_count": 28,
   "id": "254aaaaf-2d4b-4958-a845-d1043f77166e",
   "metadata": {},
   "outputs": [
    {
     "name": "stdout",
     "output_type": "stream",
     "text": [
      "(array([2., 4.]), array([[1.        , 0.4472136 ],\n",
      "       [0.        , 0.89442719]]))\n",
      "[[2 1]\n",
      " [0 4]]\n"
     ]
    }
   ],
   "source": [
    "print(np.linalg.eig(AT_A))\n",
    "print(AT_A)"
   ]
  },
  {
   "cell_type": "code",
   "execution_count": 29,
   "id": "5c19cc9c-881d-407b-bc1f-81409ea83c70",
   "metadata": {},
   "outputs": [
    {
     "name": "stdout",
     "output_type": "stream",
     "text": [
      "True\n"
     ]
    }
   ],
   "source": [
    "print(np.all(np.linalg.eigvals(AT_A) > 0))"
   ]
  },
  {
   "cell_type": "code",
   "execution_count": 30,
   "id": "4cef96aa-5131-4c23-b6cd-0fd5597a2404",
   "metadata": {},
   "outputs": [
    {
     "name": "stdout",
     "output_type": "stream",
     "text": [
      "[[ 4  0 -2]\n",
      " [ 2  5  4]\n",
      " [ 0  0  5]]\n"
     ]
    }
   ],
   "source": [
    "a = np.array([[4, 0, -2], [2, 5, 4], [0,0,5]])\n",
    "print(a)"
   ]
  },
  {
   "cell_type": "code",
   "execution_count": 32,
   "id": "d9eca60e-f141-4f4e-9337-018b92986862",
   "metadata": {},
   "outputs": [
    {
     "name": "stdout",
     "output_type": "stream",
     "text": [
      "(array([5., 4., 5.]), array([[ 0.        ,  0.4472136 , -0.89442719],\n",
      "       [ 1.        , -0.89442719,  0.        ],\n",
      "       [ 0.        ,  0.        ,  0.4472136 ]]))\n"
     ]
    }
   ],
   "source": [
    "print(np.linalg.eig(a))"
   ]
  },
  {
   "cell_type": "code",
   "execution_count": null,
   "id": "0edf81e3-ce0a-41f2-887d-288da69e2062",
   "metadata": {},
   "outputs": [],
   "source": []
  }
 ],
 "metadata": {
  "kernelspec": {
   "display_name": "Python 3 (ipykernel)",
   "language": "python",
   "name": "python3"
  },
  "language_info": {
   "codemirror_mode": {
    "name": "ipython",
    "version": 3
   },
   "file_extension": ".py",
   "mimetype": "text/x-python",
   "name": "python",
   "nbconvert_exporter": "python",
   "pygments_lexer": "ipython3",
   "version": "3.10.6"
  }
 },
 "nbformat": 4,
 "nbformat_minor": 5
}
