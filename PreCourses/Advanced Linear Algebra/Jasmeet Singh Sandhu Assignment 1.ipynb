{
 "cells": [
  {
   "cell_type": "code",
   "execution_count": 2,
   "id": "110cba69-62b1-4f06-a385-18b060aabb0d",
   "metadata": {},
   "outputs": [],
   "source": [
    "import numpy as np\n",
    "from scipy import linalg as la"
   ]
  },
  {
   "cell_type": "markdown",
   "id": "e1a543b6-1ac4-4082-84f4-aad90e163b79",
   "metadata": {},
   "source": [
    "### Initializing variables"
   ]
  },
  {
   "cell_type": "code",
   "execution_count": 3,
   "id": "30a233be-5dcc-4f14-9806-13e173b3c265",
   "metadata": {},
   "outputs": [],
   "source": [
    "matrix_a = np.array([[0, 3, -1],\n",
    "                     [-1, 4, -2],\n",
    "                     [1, 3, 1]])\n",
    "matrix_b = np.array([[2, -1, 2],\n",
    "                     [-1, 0, 1],\n",
    "                     [-1, 2, 2]])\n",
    "\n",
    "vector_v = np.array([2, -1, 4])\n",
    "vector_u = np.array([-2, 1, 5])\n",
    "\n",
    "scalar_a = -2\n",
    "scalar_b = 1"
   ]
  },
  {
   "cell_type": "markdown",
   "id": "53505d11-f121-448c-9248-2f7ca57a6913",
   "metadata": {},
   "source": [
    "#### Question 1"
   ]
  },
  {
   "cell_type": "code",
   "execution_count": 4,
   "id": "f31b309b-6f92-4e44-b639-7f9905e5816f",
   "metadata": {},
   "outputs": [],
   "source": [
    "# Calculating ‖𝑣‖1𝑣 + 𝑎𝑢"
   ]
  },
  {
   "cell_type": "code",
   "execution_count": 5,
   "id": "9f2856e7-e1db-482e-84f7-4f0630c79735",
   "metadata": {},
   "outputs": [
    {
     "name": "stdout",
     "output_type": "stream",
     "text": [
      "Result =  [18. -9. 18.]\n"
     ]
    }
   ],
   "source": [
    "result = la.norm(vector_v, 1) * vector_v + scalar_a * vector_u\n",
    "print('Result = ', result)"
   ]
  },
  {
   "cell_type": "markdown",
   "id": "245e84fe-477b-45dc-b4d1-f84c1f4a4804",
   "metadata": {},
   "source": [
    "#### Question 2"
   ]
  },
  {
   "cell_type": "code",
   "execution_count": 6,
   "id": "da5b1777-31f4-432d-8513-6852da146fca",
   "metadata": {},
   "outputs": [],
   "source": [
    "# Calculating the cos_theta between u and v"
   ]
  },
  {
   "cell_type": "code",
   "execution_count": 7,
   "id": "ee6df942-0981-4aac-92f6-eb88cbca3faa",
   "metadata": {},
   "outputs": [
    {
     "name": "stdout",
     "output_type": "stream",
     "text": [
      "Cosine of Theta between vector u and vector v =  0.5976\n"
     ]
    }
   ],
   "source": [
    "cosine_thetha = (vector_u.dot(vector_v)) / (la.norm(vector_u, 2) * la.norm(vector_v, 2))\n",
    "print('Cosine of Theta between vector u and vector v = ', round(cosine_thetha, 4))"
   ]
  },
  {
   "cell_type": "markdown",
   "id": "98a2dab4-e191-4220-8288-d92f18293088",
   "metadata": {},
   "source": [
    "#### Question 3"
   ]
  },
  {
   "cell_type": "code",
   "execution_count": 8,
   "id": "1e95f1d5-b336-482b-acbf-fd356e0464f2",
   "metadata": {},
   "outputs": [],
   "source": [
    "# Calculating 𝑎(𝑨∙𝑣)"
   ]
  },
  {
   "cell_type": "code",
   "execution_count": 9,
   "id": "1d1036bd-fc01-4587-9ed8-6af2a6be2fb6",
   "metadata": {},
   "outputs": [
    {
     "name": "stdout",
     "output_type": "stream",
     "text": [
      "Result =  [14 28 -6]\n"
     ]
    }
   ],
   "source": [
    "result = scalar_a * (matrix_a.dot(vector_v))\n",
    "print('Result = ', result) "
   ]
  },
  {
   "cell_type": "markdown",
   "id": "368f87d5-ce93-45cb-82ca-43397d7b8f27",
   "metadata": {},
   "source": [
    "#### Question 4"
   ]
  },
  {
   "cell_type": "code",
   "execution_count": 10,
   "id": "06c16bc6-ef47-4638-9f61-b0a7de5564b2",
   "metadata": {},
   "outputs": [],
   "source": [
    "# Calculating 𝑨∙𝑩𝑇 + 𝑡𝑟(𝑩) ∗ 𝑳"
   ]
  },
  {
   "cell_type": "code",
   "execution_count": 11,
   "id": "928b6dcd-e174-4233-8ea4-6ec26d9ddd41",
   "metadata": {},
   "outputs": [
    {
     "name": "stdout",
     "output_type": "stream",
     "text": [
      "Result = \n",
      " [[  3  -1   4]\n",
      " [-14  -1   5]\n",
      " [ -3   8  15]]\n"
     ]
    }
   ],
   "source": [
    "matrix_b_transpose = matrix_b.T\n",
    "trace_of_matrix_b = matrix_b.trace()\n",
    "lower_triangular_b = la.tril(matrix_b)\n",
    "\n",
    "result = matrix_a.dot(matrix_b_transpose) + trace_of_matrix_b * lower_triangular_b\n",
    "print('Result = \\n', result)"
   ]
  },
  {
   "cell_type": "code",
   "execution_count": 12,
   "id": "3d2c8c47-2aef-4ced-aa48-e980fb678425",
   "metadata": {},
   "outputs": [],
   "source": [
    "a = np.array([[1, 2, 3], [2, 5, 11], [3, 11, 35]])"
   ]
  },
  {
   "cell_type": "code",
   "execution_count": 14,
   "id": "80fb3ff1-7a6d-438d-bd1a-3e53a6805146",
   "metadata": {},
   "outputs": [
    {
     "name": "stdout",
     "output_type": "stream",
     "text": [
      "0.5 2\n",
      "0.25 4\n",
      "0.125 8\n",
      "0.0625 16\n",
      "0.03125 32\n"
     ]
    }
   ],
   "source": [
    "sum = 0\n",
    "for i in range (1, 6):\n",
    "    sum += (0.5**i + 2**i)\n",
    "    print(0.5**i, 2**i)"
   ]
  },
  {
   "cell_type": "code",
   "execution_count": 40,
   "id": "9d7ae4bc-e4d6-4789-b7ee-6de8a855a8cd",
   "metadata": {},
   "outputs": [
    {
     "name": "stdout",
     "output_type": "stream",
     "text": [
      "472.7500000000002\n"
     ]
    }
   ],
   "source": [
    "import operator as op\n",
    "from functools import reduce\n",
    "\n",
    "def ncr(n, r):\n",
    "    r = min(r, n-r)\n",
    "    numer = reduce(op.mul, range(n, n-r, -1), 1)\n",
    "    denom = reduce(op.mul, range(1, r+1), 1)\n",
    "    return numer // denom  # or / in Python 2\n",
    "\n",
    "res = 0\n",
    "for i in range(1, 700):\n",
    "    # res += ncr(700, i) * (((1/5)**(700-i + 1) * (4/5)**(i-1) + (1/5)**(i-1) * (4/5)**(700-i + 1)))\n",
    "    res +=i * (((1/5)**(700-i + 1) * (4/5) + (1/5) * (4/5)**(700-i + 1)))\n",
    "    # print(i)\n",
    "    \n",
    "print(res)"
   ]
  },
  {
   "cell_type": "code",
   "execution_count": null,
   "id": "4aeb1cbb-a255-49b3-be30-5656b8db47d6",
   "metadata": {},
   "outputs": [],
   "source": [
    "print(res"
   ]
  }
 ],
 "metadata": {
  "kernelspec": {
   "display_name": "Python 3 (ipykernel)",
   "language": "python",
   "name": "python3"
  },
  "language_info": {
   "codemirror_mode": {
    "name": "ipython",
    "version": 3
   },
   "file_extension": ".py",
   "mimetype": "text/x-python",
   "name": "python",
   "nbconvert_exporter": "python",
   "pygments_lexer": "ipython3",
   "version": "3.10.6"
  }
 },
 "nbformat": 4,
 "nbformat_minor": 5
}
